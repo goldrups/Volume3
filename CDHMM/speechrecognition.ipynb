{
 "cells": [
  {
   "cell_type": "code",
   "execution_count": 1,
   "metadata": {},
   "outputs": [],
   "source": [
    "from scipy.special import logsumexp"
   ]
  },
  {
   "cell_type": "code",
   "execution_count": 2,
   "metadata": {},
   "outputs": [
    {
     "name": "stdout",
     "output_type": "stream",
     "text": [
      "Requirement already satisfied: hmmlearn in c:\\miniconda\\lib\\site-packages (0.2.8)\n",
      "Requirement already satisfied: scipy>=0.19 in c:\\miniconda\\lib\\site-packages (from hmmlearn) (1.7.1)\n",
      "Requirement already satisfied: scikit-learn>=0.16 in c:\\miniconda\\lib\\site-packages (from hmmlearn) (1.0)\n",
      "Requirement already satisfied: numpy>=1.10 in c:\\miniconda\\lib\\site-packages (from hmmlearn) (1.20.3)\n",
      "Requirement already satisfied: joblib>=0.11 in c:\\miniconda\\lib\\site-packages (from scikit-learn>=0.16->hmmlearn) (1.1.0)\n",
      "Requirement already satisfied: threadpoolctl>=2.0.0 in c:\\miniconda\\lib\\site-packages (from scikit-learn>=0.16->hmmlearn) (3.0.0)\n"
     ]
    }
   ],
   "source": [
    "!pip install hmmlearn"
   ]
  },
  {
   "cell_type": "code",
   "execution_count": 3,
   "metadata": {},
   "outputs": [],
   "source": [
    "import scipy.io.wavfile as wavfile\n",
    "import os\n",
    "import numpy as np\n",
    "from glob import glob\n",
    "from hmmlearn import hmm\n",
    "import MFCC\n",
    "import numpy as np\n",
    "import re\n",
    "import random\n",
    "import matplotlib\n",
    "matplotlib.use('nbAgg')\n",
    "from matplotlib import pyplot as plt\n",
    "from sklearn.decomposition import PCA"
   ]
  },
  {
   "cell_type": "markdown",
   "metadata": {},
   "source": [
    "## Problem 1\n",
    "\n",
    "Write a function which accepts a GMMHMM as well as\n",
    "an integer n_sim, and which simulates the GMMHMM process, generating n_sim different\n",
    "observations. Use the example GMMHMM to sample 900 times. Use PCA from SkLearn to plot your generated observations in 2D space. Color observations by state."
   ]
  },
  {
   "cell_type": "code",
   "execution_count": 4,
   "metadata": {},
   "outputs": [],
   "source": [
    "def sample_gmmhmm(gmmhmm, n_sim):\n",
    "    \"\"\"\n",
    "    Simulate from a GMMHMM.\n",
    "    \n",
    "    Returns\n",
    "    -------\n",
    "    states : ndarray of shape (n_sim,)\n",
    "        The sequence of states\n",
    "    obs : ndarray of shape (n_sim, M)\n",
    "        The generated observations (vectors of length M)\n",
    "        \n",
    "    \"\"\"\n",
    "    A, weights, means, covars, pi = gmmhmm\n",
    "    state = np.argmax(np.random.multinomial(1, pi))\n",
    "    sample_component = np.argmax(np.random.multinomial(1, weights[state,:]))\n",
    "    sample = np.random.multivariate_normal(means[state, sample_component, :], covars[state, sample_component, :, :])\n",
    "    states = [state]\n",
    "    obs = [sample]\n",
    "    #simulate and sample\n",
    "    for i in range(n_sim):\n",
    "        state = np.argmax(np.random.multinomial(1, A[:, state]))\n",
    "        sample_component = np.argmax(np.random.multinomial(1, weights[state,:]))\n",
    "        sample = np.random.multivariate_normal(means[state, sample_component, :], covars[state, sample_component, :, :])\n",
    "        states.append(state)\n",
    "        obs.append(sample)\n",
    "        \n",
    "    states = np.array(states)\n",
    "    obs = np.array(obs)\n",
    "    \n",
    "    return states,obs"
   ]
  },
  {
   "cell_type": "code",
   "execution_count": 5,
   "metadata": {
    "scrolled": true
   },
   "outputs": [],
   "source": [
    "T = 900\n",
    "A = np.array([[.3, .3, .4], [.2, .3, .5], [.3, .2, .5]])\n",
    "weights = np.array([[.3, .2, .1, .2, .2], [.1, .3, .3, .2, .1],[.1, .3, .2, .1, .3]])\n",
    "means = np.array([np.floor(np.random.uniform(-100, 100, size = (5, 4))) for i in range(3)])\n",
    "covars = np.array([[np.floor(np.random.uniform(1, 20))*np.eye(4) for i in range(5)] for j in range(3)])\n",
    "pi = np.array([.15, .15, .7])\n",
    "gmmhmm = [A, weights, means, covars, pi]\n",
    "states,obs = sample_gmmhmm(gmmhmm,T)   "
   ]
  },
  {
   "cell_type": "code",
   "execution_count": 6,
   "metadata": {},
   "outputs": [
    {
     "data": {
      "application/javascript": [
       "/* Put everything inside the global mpl namespace */\n",
       "/* global mpl */\n",
       "window.mpl = {};\n",
       "\n",
       "mpl.get_websocket_type = function () {\n",
       "    if (typeof WebSocket !== 'undefined') {\n",
       "        return WebSocket;\n",
       "    } else if (typeof MozWebSocket !== 'undefined') {\n",
       "        return MozWebSocket;\n",
       "    } else {\n",
       "        alert(\n",
       "            'Your browser does not have WebSocket support. ' +\n",
       "                'Please try Chrome, Safari or Firefox ≥ 6. ' +\n",
       "                'Firefox 4 and 5 are also supported but you ' +\n",
       "                'have to enable WebSockets in about:config.'\n",
       "        );\n",
       "    }\n",
       "};\n",
       "\n",
       "mpl.figure = function (figure_id, websocket, ondownload, parent_element) {\n",
       "    this.id = figure_id;\n",
       "\n",
       "    this.ws = websocket;\n",
       "\n",
       "    this.supports_binary = this.ws.binaryType !== undefined;\n",
       "\n",
       "    if (!this.supports_binary) {\n",
       "        var warnings = document.getElementById('mpl-warnings');\n",
       "        if (warnings) {\n",
       "            warnings.style.display = 'block';\n",
       "            warnings.textContent =\n",
       "                'This browser does not support binary websocket messages. ' +\n",
       "                'Performance may be slow.';\n",
       "        }\n",
       "    }\n",
       "\n",
       "    this.imageObj = new Image();\n",
       "\n",
       "    this.context = undefined;\n",
       "    this.message = undefined;\n",
       "    this.canvas = undefined;\n",
       "    this.rubberband_canvas = undefined;\n",
       "    this.rubberband_context = undefined;\n",
       "    this.format_dropdown = undefined;\n",
       "\n",
       "    this.image_mode = 'full';\n",
       "\n",
       "    this.root = document.createElement('div');\n",
       "    this.root.setAttribute('style', 'display: inline-block');\n",
       "    this._root_extra_style(this.root);\n",
       "\n",
       "    parent_element.appendChild(this.root);\n",
       "\n",
       "    this._init_header(this);\n",
       "    this._init_canvas(this);\n",
       "    this._init_toolbar(this);\n",
       "\n",
       "    var fig = this;\n",
       "\n",
       "    this.waiting = false;\n",
       "\n",
       "    this.ws.onopen = function () {\n",
       "        fig.send_message('supports_binary', { value: fig.supports_binary });\n",
       "        fig.send_message('send_image_mode', {});\n",
       "        if (fig.ratio !== 1) {\n",
       "            fig.send_message('set_device_pixel_ratio', {\n",
       "                device_pixel_ratio: fig.ratio,\n",
       "            });\n",
       "        }\n",
       "        fig.send_message('refresh', {});\n",
       "    };\n",
       "\n",
       "    this.imageObj.onload = function () {\n",
       "        if (fig.image_mode === 'full') {\n",
       "            // Full images could contain transparency (where diff images\n",
       "            // almost always do), so we need to clear the canvas so that\n",
       "            // there is no ghosting.\n",
       "            fig.context.clearRect(0, 0, fig.canvas.width, fig.canvas.height);\n",
       "        }\n",
       "        fig.context.drawImage(fig.imageObj, 0, 0);\n",
       "    };\n",
       "\n",
       "    this.imageObj.onunload = function () {\n",
       "        fig.ws.close();\n",
       "    };\n",
       "\n",
       "    this.ws.onmessage = this._make_on_message_function(this);\n",
       "\n",
       "    this.ondownload = ondownload;\n",
       "};\n",
       "\n",
       "mpl.figure.prototype._init_header = function () {\n",
       "    var titlebar = document.createElement('div');\n",
       "    titlebar.classList =\n",
       "        'ui-dialog-titlebar ui-widget-header ui-corner-all ui-helper-clearfix';\n",
       "    var titletext = document.createElement('div');\n",
       "    titletext.classList = 'ui-dialog-title';\n",
       "    titletext.setAttribute(\n",
       "        'style',\n",
       "        'width: 100%; text-align: center; padding: 3px;'\n",
       "    );\n",
       "    titlebar.appendChild(titletext);\n",
       "    this.root.appendChild(titlebar);\n",
       "    this.header = titletext;\n",
       "};\n",
       "\n",
       "mpl.figure.prototype._canvas_extra_style = function (_canvas_div) {};\n",
       "\n",
       "mpl.figure.prototype._root_extra_style = function (_canvas_div) {};\n",
       "\n",
       "mpl.figure.prototype._init_canvas = function () {\n",
       "    var fig = this;\n",
       "\n",
       "    var canvas_div = (this.canvas_div = document.createElement('div'));\n",
       "    canvas_div.setAttribute(\n",
       "        'style',\n",
       "        'border: 1px solid #ddd;' +\n",
       "            'box-sizing: content-box;' +\n",
       "            'clear: both;' +\n",
       "            'min-height: 1px;' +\n",
       "            'min-width: 1px;' +\n",
       "            'outline: 0;' +\n",
       "            'overflow: hidden;' +\n",
       "            'position: relative;' +\n",
       "            'resize: both;'\n",
       "    );\n",
       "\n",
       "    function on_keyboard_event_closure(name) {\n",
       "        return function (event) {\n",
       "            return fig.key_event(event, name);\n",
       "        };\n",
       "    }\n",
       "\n",
       "    canvas_div.addEventListener(\n",
       "        'keydown',\n",
       "        on_keyboard_event_closure('key_press')\n",
       "    );\n",
       "    canvas_div.addEventListener(\n",
       "        'keyup',\n",
       "        on_keyboard_event_closure('key_release')\n",
       "    );\n",
       "\n",
       "    this._canvas_extra_style(canvas_div);\n",
       "    this.root.appendChild(canvas_div);\n",
       "\n",
       "    var canvas = (this.canvas = document.createElement('canvas'));\n",
       "    canvas.classList.add('mpl-canvas');\n",
       "    canvas.setAttribute('style', 'box-sizing: content-box;');\n",
       "\n",
       "    this.context = canvas.getContext('2d');\n",
       "\n",
       "    var backingStore =\n",
       "        this.context.backingStorePixelRatio ||\n",
       "        this.context.webkitBackingStorePixelRatio ||\n",
       "        this.context.mozBackingStorePixelRatio ||\n",
       "        this.context.msBackingStorePixelRatio ||\n",
       "        this.context.oBackingStorePixelRatio ||\n",
       "        this.context.backingStorePixelRatio ||\n",
       "        1;\n",
       "\n",
       "    this.ratio = (window.devicePixelRatio || 1) / backingStore;\n",
       "\n",
       "    var rubberband_canvas = (this.rubberband_canvas = document.createElement(\n",
       "        'canvas'\n",
       "    ));\n",
       "    rubberband_canvas.setAttribute(\n",
       "        'style',\n",
       "        'box-sizing: content-box; position: absolute; left: 0; top: 0; z-index: 1;'\n",
       "    );\n",
       "\n",
       "    // Apply a ponyfill if ResizeObserver is not implemented by browser.\n",
       "    if (this.ResizeObserver === undefined) {\n",
       "        if (window.ResizeObserver !== undefined) {\n",
       "            this.ResizeObserver = window.ResizeObserver;\n",
       "        } else {\n",
       "            var obs = _JSXTOOLS_RESIZE_OBSERVER({});\n",
       "            this.ResizeObserver = obs.ResizeObserver;\n",
       "        }\n",
       "    }\n",
       "\n",
       "    this.resizeObserverInstance = new this.ResizeObserver(function (entries) {\n",
       "        var nentries = entries.length;\n",
       "        for (var i = 0; i < nentries; i++) {\n",
       "            var entry = entries[i];\n",
       "            var width, height;\n",
       "            if (entry.contentBoxSize) {\n",
       "                if (entry.contentBoxSize instanceof Array) {\n",
       "                    // Chrome 84 implements new version of spec.\n",
       "                    width = entry.contentBoxSize[0].inlineSize;\n",
       "                    height = entry.contentBoxSize[0].blockSize;\n",
       "                } else {\n",
       "                    // Firefox implements old version of spec.\n",
       "                    width = entry.contentBoxSize.inlineSize;\n",
       "                    height = entry.contentBoxSize.blockSize;\n",
       "                }\n",
       "            } else {\n",
       "                // Chrome <84 implements even older version of spec.\n",
       "                width = entry.contentRect.width;\n",
       "                height = entry.contentRect.height;\n",
       "            }\n",
       "\n",
       "            // Keep the size of the canvas and rubber band canvas in sync with\n",
       "            // the canvas container.\n",
       "            if (entry.devicePixelContentBoxSize) {\n",
       "                // Chrome 84 implements new version of spec.\n",
       "                canvas.setAttribute(\n",
       "                    'width',\n",
       "                    entry.devicePixelContentBoxSize[0].inlineSize\n",
       "                );\n",
       "                canvas.setAttribute(\n",
       "                    'height',\n",
       "                    entry.devicePixelContentBoxSize[0].blockSize\n",
       "                );\n",
       "            } else {\n",
       "                canvas.setAttribute('width', width * fig.ratio);\n",
       "                canvas.setAttribute('height', height * fig.ratio);\n",
       "            }\n",
       "            canvas.setAttribute(\n",
       "                'style',\n",
       "                'width: ' + width + 'px; height: ' + height + 'px;'\n",
       "            );\n",
       "\n",
       "            rubberband_canvas.setAttribute('width', width);\n",
       "            rubberband_canvas.setAttribute('height', height);\n",
       "\n",
       "            // And update the size in Python. We ignore the initial 0/0 size\n",
       "            // that occurs as the element is placed into the DOM, which should\n",
       "            // otherwise not happen due to the minimum size styling.\n",
       "            if (fig.ws.readyState == 1 && width != 0 && height != 0) {\n",
       "                fig.request_resize(width, height);\n",
       "            }\n",
       "        }\n",
       "    });\n",
       "    this.resizeObserverInstance.observe(canvas_div);\n",
       "\n",
       "    function on_mouse_event_closure(name) {\n",
       "        return function (event) {\n",
       "            return fig.mouse_event(event, name);\n",
       "        };\n",
       "    }\n",
       "\n",
       "    rubberband_canvas.addEventListener(\n",
       "        'mousedown',\n",
       "        on_mouse_event_closure('button_press')\n",
       "    );\n",
       "    rubberband_canvas.addEventListener(\n",
       "        'mouseup',\n",
       "        on_mouse_event_closure('button_release')\n",
       "    );\n",
       "    rubberband_canvas.addEventListener(\n",
       "        'dblclick',\n",
       "        on_mouse_event_closure('dblclick')\n",
       "    );\n",
       "    // Throttle sequential mouse events to 1 every 20ms.\n",
       "    rubberband_canvas.addEventListener(\n",
       "        'mousemove',\n",
       "        on_mouse_event_closure('motion_notify')\n",
       "    );\n",
       "\n",
       "    rubberband_canvas.addEventListener(\n",
       "        'mouseenter',\n",
       "        on_mouse_event_closure('figure_enter')\n",
       "    );\n",
       "    rubberband_canvas.addEventListener(\n",
       "        'mouseleave',\n",
       "        on_mouse_event_closure('figure_leave')\n",
       "    );\n",
       "\n",
       "    canvas_div.addEventListener('wheel', function (event) {\n",
       "        if (event.deltaY < 0) {\n",
       "            event.step = 1;\n",
       "        } else {\n",
       "            event.step = -1;\n",
       "        }\n",
       "        on_mouse_event_closure('scroll')(event);\n",
       "    });\n",
       "\n",
       "    canvas_div.appendChild(canvas);\n",
       "    canvas_div.appendChild(rubberband_canvas);\n",
       "\n",
       "    this.rubberband_context = rubberband_canvas.getContext('2d');\n",
       "    this.rubberband_context.strokeStyle = '#000000';\n",
       "\n",
       "    this._resize_canvas = function (width, height, forward) {\n",
       "        if (forward) {\n",
       "            canvas_div.style.width = width + 'px';\n",
       "            canvas_div.style.height = height + 'px';\n",
       "        }\n",
       "    };\n",
       "\n",
       "    // Disable right mouse context menu.\n",
       "    this.rubberband_canvas.addEventListener('contextmenu', function (_e) {\n",
       "        event.preventDefault();\n",
       "        return false;\n",
       "    });\n",
       "\n",
       "    function set_focus() {\n",
       "        canvas.focus();\n",
       "        canvas_div.focus();\n",
       "    }\n",
       "\n",
       "    window.setTimeout(set_focus, 100);\n",
       "};\n",
       "\n",
       "mpl.figure.prototype._init_toolbar = function () {\n",
       "    var fig = this;\n",
       "\n",
       "    var toolbar = document.createElement('div');\n",
       "    toolbar.classList = 'mpl-toolbar';\n",
       "    this.root.appendChild(toolbar);\n",
       "\n",
       "    function on_click_closure(name) {\n",
       "        return function (_event) {\n",
       "            return fig.toolbar_button_onclick(name);\n",
       "        };\n",
       "    }\n",
       "\n",
       "    function on_mouseover_closure(tooltip) {\n",
       "        return function (event) {\n",
       "            if (!event.currentTarget.disabled) {\n",
       "                return fig.toolbar_button_onmouseover(tooltip);\n",
       "            }\n",
       "        };\n",
       "    }\n",
       "\n",
       "    fig.buttons = {};\n",
       "    var buttonGroup = document.createElement('div');\n",
       "    buttonGroup.classList = 'mpl-button-group';\n",
       "    for (var toolbar_ind in mpl.toolbar_items) {\n",
       "        var name = mpl.toolbar_items[toolbar_ind][0];\n",
       "        var tooltip = mpl.toolbar_items[toolbar_ind][1];\n",
       "        var image = mpl.toolbar_items[toolbar_ind][2];\n",
       "        var method_name = mpl.toolbar_items[toolbar_ind][3];\n",
       "\n",
       "        if (!name) {\n",
       "            /* Instead of a spacer, we start a new button group. */\n",
       "            if (buttonGroup.hasChildNodes()) {\n",
       "                toolbar.appendChild(buttonGroup);\n",
       "            }\n",
       "            buttonGroup = document.createElement('div');\n",
       "            buttonGroup.classList = 'mpl-button-group';\n",
       "            continue;\n",
       "        }\n",
       "\n",
       "        var button = (fig.buttons[name] = document.createElement('button'));\n",
       "        button.classList = 'mpl-widget';\n",
       "        button.setAttribute('role', 'button');\n",
       "        button.setAttribute('aria-disabled', 'false');\n",
       "        button.addEventListener('click', on_click_closure(method_name));\n",
       "        button.addEventListener('mouseover', on_mouseover_closure(tooltip));\n",
       "\n",
       "        var icon_img = document.createElement('img');\n",
       "        icon_img.src = '_images/' + image + '.png';\n",
       "        icon_img.srcset = '_images/' + image + '_large.png 2x';\n",
       "        icon_img.alt = tooltip;\n",
       "        button.appendChild(icon_img);\n",
       "\n",
       "        buttonGroup.appendChild(button);\n",
       "    }\n",
       "\n",
       "    if (buttonGroup.hasChildNodes()) {\n",
       "        toolbar.appendChild(buttonGroup);\n",
       "    }\n",
       "\n",
       "    var fmt_picker = document.createElement('select');\n",
       "    fmt_picker.classList = 'mpl-widget';\n",
       "    toolbar.appendChild(fmt_picker);\n",
       "    this.format_dropdown = fmt_picker;\n",
       "\n",
       "    for (var ind in mpl.extensions) {\n",
       "        var fmt = mpl.extensions[ind];\n",
       "        var option = document.createElement('option');\n",
       "        option.selected = fmt === mpl.default_extension;\n",
       "        option.innerHTML = fmt;\n",
       "        fmt_picker.appendChild(option);\n",
       "    }\n",
       "\n",
       "    var status_bar = document.createElement('span');\n",
       "    status_bar.classList = 'mpl-message';\n",
       "    toolbar.appendChild(status_bar);\n",
       "    this.message = status_bar;\n",
       "};\n",
       "\n",
       "mpl.figure.prototype.request_resize = function (x_pixels, y_pixels) {\n",
       "    // Request matplotlib to resize the figure. Matplotlib will then trigger a resize in the client,\n",
       "    // which will in turn request a refresh of the image.\n",
       "    this.send_message('resize', { width: x_pixels, height: y_pixels });\n",
       "};\n",
       "\n",
       "mpl.figure.prototype.send_message = function (type, properties) {\n",
       "    properties['type'] = type;\n",
       "    properties['figure_id'] = this.id;\n",
       "    this.ws.send(JSON.stringify(properties));\n",
       "};\n",
       "\n",
       "mpl.figure.prototype.send_draw_message = function () {\n",
       "    if (!this.waiting) {\n",
       "        this.waiting = true;\n",
       "        this.ws.send(JSON.stringify({ type: 'draw', figure_id: this.id }));\n",
       "    }\n",
       "};\n",
       "\n",
       "mpl.figure.prototype.handle_save = function (fig, _msg) {\n",
       "    var format_dropdown = fig.format_dropdown;\n",
       "    var format = format_dropdown.options[format_dropdown.selectedIndex].value;\n",
       "    fig.ondownload(fig, format);\n",
       "};\n",
       "\n",
       "mpl.figure.prototype.handle_resize = function (fig, msg) {\n",
       "    var size = msg['size'];\n",
       "    if (size[0] !== fig.canvas.width || size[1] !== fig.canvas.height) {\n",
       "        fig._resize_canvas(size[0], size[1], msg['forward']);\n",
       "        fig.send_message('refresh', {});\n",
       "    }\n",
       "};\n",
       "\n",
       "mpl.figure.prototype.handle_rubberband = function (fig, msg) {\n",
       "    var x0 = msg['x0'] / fig.ratio;\n",
       "    var y0 = (fig.canvas.height - msg['y0']) / fig.ratio;\n",
       "    var x1 = msg['x1'] / fig.ratio;\n",
       "    var y1 = (fig.canvas.height - msg['y1']) / fig.ratio;\n",
       "    x0 = Math.floor(x0) + 0.5;\n",
       "    y0 = Math.floor(y0) + 0.5;\n",
       "    x1 = Math.floor(x1) + 0.5;\n",
       "    y1 = Math.floor(y1) + 0.5;\n",
       "    var min_x = Math.min(x0, x1);\n",
       "    var min_y = Math.min(y0, y1);\n",
       "    var width = Math.abs(x1 - x0);\n",
       "    var height = Math.abs(y1 - y0);\n",
       "\n",
       "    fig.rubberband_context.clearRect(\n",
       "        0,\n",
       "        0,\n",
       "        fig.canvas.width / fig.ratio,\n",
       "        fig.canvas.height / fig.ratio\n",
       "    );\n",
       "\n",
       "    fig.rubberband_context.strokeRect(min_x, min_y, width, height);\n",
       "};\n",
       "\n",
       "mpl.figure.prototype.handle_figure_label = function (fig, msg) {\n",
       "    // Updates the figure title.\n",
       "    fig.header.textContent = msg['label'];\n",
       "};\n",
       "\n",
       "mpl.figure.prototype.handle_cursor = function (fig, msg) {\n",
       "    fig.rubberband_canvas.style.cursor = msg['cursor'];\n",
       "};\n",
       "\n",
       "mpl.figure.prototype.handle_message = function (fig, msg) {\n",
       "    fig.message.textContent = msg['message'];\n",
       "};\n",
       "\n",
       "mpl.figure.prototype.handle_draw = function (fig, _msg) {\n",
       "    // Request the server to send over a new figure.\n",
       "    fig.send_draw_message();\n",
       "};\n",
       "\n",
       "mpl.figure.prototype.handle_image_mode = function (fig, msg) {\n",
       "    fig.image_mode = msg['mode'];\n",
       "};\n",
       "\n",
       "mpl.figure.prototype.handle_history_buttons = function (fig, msg) {\n",
       "    for (var key in msg) {\n",
       "        if (!(key in fig.buttons)) {\n",
       "            continue;\n",
       "        }\n",
       "        fig.buttons[key].disabled = !msg[key];\n",
       "        fig.buttons[key].setAttribute('aria-disabled', !msg[key]);\n",
       "    }\n",
       "};\n",
       "\n",
       "mpl.figure.prototype.handle_navigate_mode = function (fig, msg) {\n",
       "    if (msg['mode'] === 'PAN') {\n",
       "        fig.buttons['Pan'].classList.add('active');\n",
       "        fig.buttons['Zoom'].classList.remove('active');\n",
       "    } else if (msg['mode'] === 'ZOOM') {\n",
       "        fig.buttons['Pan'].classList.remove('active');\n",
       "        fig.buttons['Zoom'].classList.add('active');\n",
       "    } else {\n",
       "        fig.buttons['Pan'].classList.remove('active');\n",
       "        fig.buttons['Zoom'].classList.remove('active');\n",
       "    }\n",
       "};\n",
       "\n",
       "mpl.figure.prototype.updated_canvas_event = function () {\n",
       "    // Called whenever the canvas gets updated.\n",
       "    this.send_message('ack', {});\n",
       "};\n",
       "\n",
       "// A function to construct a web socket function for onmessage handling.\n",
       "// Called in the figure constructor.\n",
       "mpl.figure.prototype._make_on_message_function = function (fig) {\n",
       "    return function socket_on_message(evt) {\n",
       "        if (evt.data instanceof Blob) {\n",
       "            var img = evt.data;\n",
       "            if (img.type !== 'image/png') {\n",
       "                /* FIXME: We get \"Resource interpreted as Image but\n",
       "                 * transferred with MIME type text/plain:\" errors on\n",
       "                 * Chrome.  But how to set the MIME type?  It doesn't seem\n",
       "                 * to be part of the websocket stream */\n",
       "                img.type = 'image/png';\n",
       "            }\n",
       "\n",
       "            /* Free the memory for the previous frames */\n",
       "            if (fig.imageObj.src) {\n",
       "                (window.URL || window.webkitURL).revokeObjectURL(\n",
       "                    fig.imageObj.src\n",
       "                );\n",
       "            }\n",
       "\n",
       "            fig.imageObj.src = (window.URL || window.webkitURL).createObjectURL(\n",
       "                img\n",
       "            );\n",
       "            fig.updated_canvas_event();\n",
       "            fig.waiting = false;\n",
       "            return;\n",
       "        } else if (\n",
       "            typeof evt.data === 'string' &&\n",
       "            evt.data.slice(0, 21) === 'data:image/png;base64'\n",
       "        ) {\n",
       "            fig.imageObj.src = evt.data;\n",
       "            fig.updated_canvas_event();\n",
       "            fig.waiting = false;\n",
       "            return;\n",
       "        }\n",
       "\n",
       "        var msg = JSON.parse(evt.data);\n",
       "        var msg_type = msg['type'];\n",
       "\n",
       "        // Call the  \"handle_{type}\" callback, which takes\n",
       "        // the figure and JSON message as its only arguments.\n",
       "        try {\n",
       "            var callback = fig['handle_' + msg_type];\n",
       "        } catch (e) {\n",
       "            console.log(\n",
       "                \"No handler for the '\" + msg_type + \"' message type: \",\n",
       "                msg\n",
       "            );\n",
       "            return;\n",
       "        }\n",
       "\n",
       "        if (callback) {\n",
       "            try {\n",
       "                // console.log(\"Handling '\" + msg_type + \"' message: \", msg);\n",
       "                callback(fig, msg);\n",
       "            } catch (e) {\n",
       "                console.log(\n",
       "                    \"Exception inside the 'handler_\" + msg_type + \"' callback:\",\n",
       "                    e,\n",
       "                    e.stack,\n",
       "                    msg\n",
       "                );\n",
       "            }\n",
       "        }\n",
       "    };\n",
       "};\n",
       "\n",
       "// from https://stackoverflow.com/questions/1114465/getting-mouse-location-in-canvas\n",
       "mpl.findpos = function (e) {\n",
       "    //this section is from http://www.quirksmode.org/js/events_properties.html\n",
       "    var targ;\n",
       "    if (!e) {\n",
       "        e = window.event;\n",
       "    }\n",
       "    if (e.target) {\n",
       "        targ = e.target;\n",
       "    } else if (e.srcElement) {\n",
       "        targ = e.srcElement;\n",
       "    }\n",
       "    if (targ.nodeType === 3) {\n",
       "        // defeat Safari bug\n",
       "        targ = targ.parentNode;\n",
       "    }\n",
       "\n",
       "    // pageX,Y are the mouse positions relative to the document\n",
       "    var boundingRect = targ.getBoundingClientRect();\n",
       "    var x = e.pageX - (boundingRect.left + document.body.scrollLeft);\n",
       "    var y = e.pageY - (boundingRect.top + document.body.scrollTop);\n",
       "\n",
       "    return { x: x, y: y };\n",
       "};\n",
       "\n",
       "/*\n",
       " * return a copy of an object with only non-object keys\n",
       " * we need this to avoid circular references\n",
       " * https://stackoverflow.com/a/24161582/3208463\n",
       " */\n",
       "function simpleKeys(original) {\n",
       "    return Object.keys(original).reduce(function (obj, key) {\n",
       "        if (typeof original[key] !== 'object') {\n",
       "            obj[key] = original[key];\n",
       "        }\n",
       "        return obj;\n",
       "    }, {});\n",
       "}\n",
       "\n",
       "mpl.figure.prototype.mouse_event = function (event, name) {\n",
       "    var canvas_pos = mpl.findpos(event);\n",
       "\n",
       "    if (name === 'button_press') {\n",
       "        this.canvas.focus();\n",
       "        this.canvas_div.focus();\n",
       "    }\n",
       "\n",
       "    var x = canvas_pos.x * this.ratio;\n",
       "    var y = canvas_pos.y * this.ratio;\n",
       "\n",
       "    this.send_message(name, {\n",
       "        x: x,\n",
       "        y: y,\n",
       "        button: event.button,\n",
       "        step: event.step,\n",
       "        guiEvent: simpleKeys(event),\n",
       "    });\n",
       "\n",
       "    /* This prevents the web browser from automatically changing to\n",
       "     * the text insertion cursor when the button is pressed.  We want\n",
       "     * to control all of the cursor setting manually through the\n",
       "     * 'cursor' event from matplotlib */\n",
       "    event.preventDefault();\n",
       "    return false;\n",
       "};\n",
       "\n",
       "mpl.figure.prototype._key_event_extra = function (_event, _name) {\n",
       "    // Handle any extra behaviour associated with a key event\n",
       "};\n",
       "\n",
       "mpl.figure.prototype.key_event = function (event, name) {\n",
       "    // Prevent repeat events\n",
       "    if (name === 'key_press') {\n",
       "        if (event.key === this._key) {\n",
       "            return;\n",
       "        } else {\n",
       "            this._key = event.key;\n",
       "        }\n",
       "    }\n",
       "    if (name === 'key_release') {\n",
       "        this._key = null;\n",
       "    }\n",
       "\n",
       "    var value = '';\n",
       "    if (event.ctrlKey && event.key !== 'Control') {\n",
       "        value += 'ctrl+';\n",
       "    }\n",
       "    else if (event.altKey && event.key !== 'Alt') {\n",
       "        value += 'alt+';\n",
       "    }\n",
       "    else if (event.shiftKey && event.key !== 'Shift') {\n",
       "        value += 'shift+';\n",
       "    }\n",
       "\n",
       "    value += 'k' + event.key;\n",
       "\n",
       "    this._key_event_extra(event, name);\n",
       "\n",
       "    this.send_message(name, { key: value, guiEvent: simpleKeys(event) });\n",
       "    return false;\n",
       "};\n",
       "\n",
       "mpl.figure.prototype.toolbar_button_onclick = function (name) {\n",
       "    if (name === 'download') {\n",
       "        this.handle_save(this, null);\n",
       "    } else {\n",
       "        this.send_message('toolbar_button', { name: name });\n",
       "    }\n",
       "};\n",
       "\n",
       "mpl.figure.prototype.toolbar_button_onmouseover = function (tooltip) {\n",
       "    this.message.textContent = tooltip;\n",
       "};\n",
       "\n",
       "///////////////// REMAINING CONTENT GENERATED BY embed_js.py /////////////////\n",
       "// prettier-ignore\n",
       "var _JSXTOOLS_RESIZE_OBSERVER=function(A){var t,i=new WeakMap,n=new WeakMap,a=new WeakMap,r=new WeakMap,o=new Set;function s(e){if(!(this instanceof s))throw new TypeError(\"Constructor requires 'new' operator\");i.set(this,e)}function h(){throw new TypeError(\"Function is not a constructor\")}function c(e,t,i,n){e=0 in arguments?Number(arguments[0]):0,t=1 in arguments?Number(arguments[1]):0,i=2 in arguments?Number(arguments[2]):0,n=3 in arguments?Number(arguments[3]):0,this.right=(this.x=this.left=e)+(this.width=i),this.bottom=(this.y=this.top=t)+(this.height=n),Object.freeze(this)}function d(){t=requestAnimationFrame(d);var s=new WeakMap,p=new Set;o.forEach((function(t){r.get(t).forEach((function(i){var r=t instanceof window.SVGElement,o=a.get(t),d=r?0:parseFloat(o.paddingTop),f=r?0:parseFloat(o.paddingRight),l=r?0:parseFloat(o.paddingBottom),u=r?0:parseFloat(o.paddingLeft),g=r?0:parseFloat(o.borderTopWidth),m=r?0:parseFloat(o.borderRightWidth),w=r?0:parseFloat(o.borderBottomWidth),b=u+f,F=d+l,v=(r?0:parseFloat(o.borderLeftWidth))+m,W=g+w,y=r?0:t.offsetHeight-W-t.clientHeight,E=r?0:t.offsetWidth-v-t.clientWidth,R=b+v,z=F+W,M=r?t.width:parseFloat(o.width)-R-E,O=r?t.height:parseFloat(o.height)-z-y;if(n.has(t)){var k=n.get(t);if(k[0]===M&&k[1]===O)return}n.set(t,[M,O]);var S=Object.create(h.prototype);S.target=t,S.contentRect=new c(u,d,M,O),s.has(i)||(s.set(i,[]),p.add(i)),s.get(i).push(S)}))})),p.forEach((function(e){i.get(e).call(e,s.get(e),e)}))}return s.prototype.observe=function(i){if(i instanceof window.Element){r.has(i)||(r.set(i,new Set),o.add(i),a.set(i,window.getComputedStyle(i)));var n=r.get(i);n.has(this)||n.add(this),cancelAnimationFrame(t),t=requestAnimationFrame(d)}},s.prototype.unobserve=function(i){if(i instanceof window.Element&&r.has(i)){var n=r.get(i);n.has(this)&&(n.delete(this),n.size||(r.delete(i),o.delete(i))),n.size||r.delete(i),o.size||cancelAnimationFrame(t)}},A.DOMRectReadOnly=c,A.ResizeObserver=s,A.ResizeObserverEntry=h,A}; // eslint-disable-line\n",
       "mpl.toolbar_items = [[\"Home\", \"Reset original view\", \"fa fa-home icon-home\", \"home\"], [\"Back\", \"Back to previous view\", \"fa fa-arrow-left icon-arrow-left\", \"back\"], [\"Forward\", \"Forward to next view\", \"fa fa-arrow-right icon-arrow-right\", \"forward\"], [\"\", \"\", \"\", \"\"], [\"Pan\", \"Left button pans, Right button zooms\\nx/y fixes axis, CTRL fixes aspect\", \"fa fa-arrows icon-move\", \"pan\"], [\"Zoom\", \"Zoom to rectangle\\nx/y fixes axis\", \"fa fa-square-o icon-check-empty\", \"zoom\"], [\"\", \"\", \"\", \"\"], [\"Download\", \"Download plot\", \"fa fa-floppy-o icon-save\", \"download\"]];\n",
       "\n",
       "mpl.extensions = [\"eps\", \"jpeg\", \"pgf\", \"pdf\", \"png\", \"ps\", \"raw\", \"svg\", \"tif\"];\n",
       "\n",
       "mpl.default_extension = \"png\";/* global mpl */\n",
       "\n",
       "var comm_websocket_adapter = function (comm) {\n",
       "    // Create a \"websocket\"-like object which calls the given IPython comm\n",
       "    // object with the appropriate methods. Currently this is a non binary\n",
       "    // socket, so there is still some room for performance tuning.\n",
       "    var ws = {};\n",
       "\n",
       "    ws.binaryType = comm.kernel.ws.binaryType;\n",
       "    ws.readyState = comm.kernel.ws.readyState;\n",
       "    function updateReadyState(_event) {\n",
       "        if (comm.kernel.ws) {\n",
       "            ws.readyState = comm.kernel.ws.readyState;\n",
       "        } else {\n",
       "            ws.readyState = 3; // Closed state.\n",
       "        }\n",
       "    }\n",
       "    comm.kernel.ws.addEventListener('open', updateReadyState);\n",
       "    comm.kernel.ws.addEventListener('close', updateReadyState);\n",
       "    comm.kernel.ws.addEventListener('error', updateReadyState);\n",
       "\n",
       "    ws.close = function () {\n",
       "        comm.close();\n",
       "    };\n",
       "    ws.send = function (m) {\n",
       "        //console.log('sending', m);\n",
       "        comm.send(m);\n",
       "    };\n",
       "    // Register the callback with on_msg.\n",
       "    comm.on_msg(function (msg) {\n",
       "        //console.log('receiving', msg['content']['data'], msg);\n",
       "        var data = msg['content']['data'];\n",
       "        if (data['blob'] !== undefined) {\n",
       "            data = {\n",
       "                data: new Blob(msg['buffers'], { type: data['blob'] }),\n",
       "            };\n",
       "        }\n",
       "        // Pass the mpl event to the overridden (by mpl) onmessage function.\n",
       "        ws.onmessage(data);\n",
       "    });\n",
       "    return ws;\n",
       "};\n",
       "\n",
       "mpl.mpl_figure_comm = function (comm, msg) {\n",
       "    // This is the function which gets called when the mpl process\n",
       "    // starts-up an IPython Comm through the \"matplotlib\" channel.\n",
       "\n",
       "    var id = msg.content.data.id;\n",
       "    // Get hold of the div created by the display call when the Comm\n",
       "    // socket was opened in Python.\n",
       "    var element = document.getElementById(id);\n",
       "    var ws_proxy = comm_websocket_adapter(comm);\n",
       "\n",
       "    function ondownload(figure, _format) {\n",
       "        window.open(figure.canvas.toDataURL());\n",
       "    }\n",
       "\n",
       "    var fig = new mpl.figure(id, ws_proxy, ondownload, element);\n",
       "\n",
       "    // Call onopen now - mpl needs it, as it is assuming we've passed it a real\n",
       "    // web socket which is closed, not our websocket->open comm proxy.\n",
       "    ws_proxy.onopen();\n",
       "\n",
       "    fig.parent_element = element;\n",
       "    fig.cell_info = mpl.find_output_cell(\"<div id='\" + id + \"'></div>\");\n",
       "    if (!fig.cell_info) {\n",
       "        console.error('Failed to find cell for figure', id, fig);\n",
       "        return;\n",
       "    }\n",
       "    fig.cell_info[0].output_area.element.on(\n",
       "        'cleared',\n",
       "        { fig: fig },\n",
       "        fig._remove_fig_handler\n",
       "    );\n",
       "};\n",
       "\n",
       "mpl.figure.prototype.handle_close = function (fig, msg) {\n",
       "    var width = fig.canvas.width / fig.ratio;\n",
       "    fig.cell_info[0].output_area.element.off(\n",
       "        'cleared',\n",
       "        fig._remove_fig_handler\n",
       "    );\n",
       "    fig.resizeObserverInstance.unobserve(fig.canvas_div);\n",
       "\n",
       "    // Update the output cell to use the data from the current canvas.\n",
       "    fig.push_to_output();\n",
       "    var dataURL = fig.canvas.toDataURL();\n",
       "    // Re-enable the keyboard manager in IPython - without this line, in FF,\n",
       "    // the notebook keyboard shortcuts fail.\n",
       "    IPython.keyboard_manager.enable();\n",
       "    fig.parent_element.innerHTML =\n",
       "        '<img src=\"' + dataURL + '\" width=\"' + width + '\">';\n",
       "    fig.close_ws(fig, msg);\n",
       "};\n",
       "\n",
       "mpl.figure.prototype.close_ws = function (fig, msg) {\n",
       "    fig.send_message('closing', msg);\n",
       "    // fig.ws.close()\n",
       "};\n",
       "\n",
       "mpl.figure.prototype.push_to_output = function (_remove_interactive) {\n",
       "    // Turn the data on the canvas into data in the output cell.\n",
       "    var width = this.canvas.width / this.ratio;\n",
       "    var dataURL = this.canvas.toDataURL();\n",
       "    this.cell_info[1]['text/html'] =\n",
       "        '<img src=\"' + dataURL + '\" width=\"' + width + '\">';\n",
       "};\n",
       "\n",
       "mpl.figure.prototype.updated_canvas_event = function () {\n",
       "    // Tell IPython that the notebook contents must change.\n",
       "    IPython.notebook.set_dirty(true);\n",
       "    this.send_message('ack', {});\n",
       "    var fig = this;\n",
       "    // Wait a second, then push the new image to the DOM so\n",
       "    // that it is saved nicely (might be nice to debounce this).\n",
       "    setTimeout(function () {\n",
       "        fig.push_to_output();\n",
       "    }, 1000);\n",
       "};\n",
       "\n",
       "mpl.figure.prototype._init_toolbar = function () {\n",
       "    var fig = this;\n",
       "\n",
       "    var toolbar = document.createElement('div');\n",
       "    toolbar.classList = 'btn-toolbar';\n",
       "    this.root.appendChild(toolbar);\n",
       "\n",
       "    function on_click_closure(name) {\n",
       "        return function (_event) {\n",
       "            return fig.toolbar_button_onclick(name);\n",
       "        };\n",
       "    }\n",
       "\n",
       "    function on_mouseover_closure(tooltip) {\n",
       "        return function (event) {\n",
       "            if (!event.currentTarget.disabled) {\n",
       "                return fig.toolbar_button_onmouseover(tooltip);\n",
       "            }\n",
       "        };\n",
       "    }\n",
       "\n",
       "    fig.buttons = {};\n",
       "    var buttonGroup = document.createElement('div');\n",
       "    buttonGroup.classList = 'btn-group';\n",
       "    var button;\n",
       "    for (var toolbar_ind in mpl.toolbar_items) {\n",
       "        var name = mpl.toolbar_items[toolbar_ind][0];\n",
       "        var tooltip = mpl.toolbar_items[toolbar_ind][1];\n",
       "        var image = mpl.toolbar_items[toolbar_ind][2];\n",
       "        var method_name = mpl.toolbar_items[toolbar_ind][3];\n",
       "\n",
       "        if (!name) {\n",
       "            /* Instead of a spacer, we start a new button group. */\n",
       "            if (buttonGroup.hasChildNodes()) {\n",
       "                toolbar.appendChild(buttonGroup);\n",
       "            }\n",
       "            buttonGroup = document.createElement('div');\n",
       "            buttonGroup.classList = 'btn-group';\n",
       "            continue;\n",
       "        }\n",
       "\n",
       "        button = fig.buttons[name] = document.createElement('button');\n",
       "        button.classList = 'btn btn-default';\n",
       "        button.href = '#';\n",
       "        button.title = name;\n",
       "        button.innerHTML = '<i class=\"fa ' + image + ' fa-lg\"></i>';\n",
       "        button.addEventListener('click', on_click_closure(method_name));\n",
       "        button.addEventListener('mouseover', on_mouseover_closure(tooltip));\n",
       "        buttonGroup.appendChild(button);\n",
       "    }\n",
       "\n",
       "    if (buttonGroup.hasChildNodes()) {\n",
       "        toolbar.appendChild(buttonGroup);\n",
       "    }\n",
       "\n",
       "    // Add the status bar.\n",
       "    var status_bar = document.createElement('span');\n",
       "    status_bar.classList = 'mpl-message pull-right';\n",
       "    toolbar.appendChild(status_bar);\n",
       "    this.message = status_bar;\n",
       "\n",
       "    // Add the close button to the window.\n",
       "    var buttongrp = document.createElement('div');\n",
       "    buttongrp.classList = 'btn-group inline pull-right';\n",
       "    button = document.createElement('button');\n",
       "    button.classList = 'btn btn-mini btn-primary';\n",
       "    button.href = '#';\n",
       "    button.title = 'Stop Interaction';\n",
       "    button.innerHTML = '<i class=\"fa fa-power-off icon-remove icon-large\"></i>';\n",
       "    button.addEventListener('click', function (_evt) {\n",
       "        fig.handle_close(fig, {});\n",
       "    });\n",
       "    button.addEventListener(\n",
       "        'mouseover',\n",
       "        on_mouseover_closure('Stop Interaction')\n",
       "    );\n",
       "    buttongrp.appendChild(button);\n",
       "    var titlebar = this.root.querySelector('.ui-dialog-titlebar');\n",
       "    titlebar.insertBefore(buttongrp, titlebar.firstChild);\n",
       "};\n",
       "\n",
       "mpl.figure.prototype._remove_fig_handler = function (event) {\n",
       "    var fig = event.data.fig;\n",
       "    if (event.target !== this) {\n",
       "        // Ignore bubbled events from children.\n",
       "        return;\n",
       "    }\n",
       "    fig.close_ws(fig, {});\n",
       "};\n",
       "\n",
       "mpl.figure.prototype._root_extra_style = function (el) {\n",
       "    el.style.boxSizing = 'content-box'; // override notebook setting of border-box.\n",
       "};\n",
       "\n",
       "mpl.figure.prototype._canvas_extra_style = function (el) {\n",
       "    // this is important to make the div 'focusable\n",
       "    el.setAttribute('tabindex', 0);\n",
       "    // reach out to IPython and tell the keyboard manager to turn it's self\n",
       "    // off when our div gets focus\n",
       "\n",
       "    // location in version 3\n",
       "    if (IPython.notebook.keyboard_manager) {\n",
       "        IPython.notebook.keyboard_manager.register_events(el);\n",
       "    } else {\n",
       "        // location in version 2\n",
       "        IPython.keyboard_manager.register_events(el);\n",
       "    }\n",
       "};\n",
       "\n",
       "mpl.figure.prototype._key_event_extra = function (event, _name) {\n",
       "    // Check for shift+enter\n",
       "    if (event.shiftKey && event.which === 13) {\n",
       "        this.canvas_div.blur();\n",
       "        // select the cell after this one\n",
       "        var index = IPython.notebook.find_cell_index(this.cell_info[0]);\n",
       "        IPython.notebook.select(index + 1);\n",
       "    }\n",
       "};\n",
       "\n",
       "mpl.figure.prototype.handle_save = function (fig, _msg) {\n",
       "    fig.ondownload(fig, null);\n",
       "};\n",
       "\n",
       "mpl.find_output_cell = function (html_output) {\n",
       "    // Return the cell and output element which can be found *uniquely* in the notebook.\n",
       "    // Note - this is a bit hacky, but it is done because the \"notebook_saving.Notebook\"\n",
       "    // IPython event is triggered only after the cells have been serialised, which for\n",
       "    // our purposes (turning an active figure into a static one), is too late.\n",
       "    var cells = IPython.notebook.get_cells();\n",
       "    var ncells = cells.length;\n",
       "    for (var i = 0; i < ncells; i++) {\n",
       "        var cell = cells[i];\n",
       "        if (cell.cell_type === 'code') {\n",
       "            for (var j = 0; j < cell.output_area.outputs.length; j++) {\n",
       "                var data = cell.output_area.outputs[j];\n",
       "                if (data.data) {\n",
       "                    // IPython >= 3 moved mimebundle to data attribute of output\n",
       "                    data = data.data;\n",
       "                }\n",
       "                if (data['text/html'] === html_output) {\n",
       "                    return [cell, data, j];\n",
       "                }\n",
       "            }\n",
       "        }\n",
       "    }\n",
       "};\n",
       "\n",
       "// Register the function which deals with the matplotlib target/channel.\n",
       "// The kernel may be null if the page has been refreshed.\n",
       "if (IPython.notebook.kernel !== null) {\n",
       "    IPython.notebook.kernel.comm_manager.register_target(\n",
       "        'matplotlib',\n",
       "        mpl.mpl_figure_comm\n",
       "    );\n",
       "}\n"
      ],
      "text/plain": [
       "<IPython.core.display.Javascript object>"
      ]
     },
     "metadata": {},
     "output_type": "display_data"
    },
    {
     "data": {
      "text/html": [
       "<img src=\"data:image/png;base64,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\" width=\"640.00004521123\">"
      ],
      "text/plain": [
       "<IPython.core.display.HTML object>"
      ]
     },
     "metadata": {},
     "output_type": "display_data"
    }
   ],
   "source": [
    "pca = PCA(n_components=2) #two most principal components\n",
    "obs_new = pca.fit_transform(obs)\n",
    "plt.scatter(obs_new[:,0],obs_new[:,1],alpha=0.2,c=states)\n",
    "plt.show()"
   ]
  },
  {
   "cell_type": "markdown",
   "metadata": {},
   "source": [
    "I see 3 clusters."
   ]
  },
  {
   "cell_type": "markdown",
   "metadata": {},
   "source": [
    "## Problem 2\n",
    "\n",
    "Samples.zip contains 30 recordings for each of the words/phrases mathematics, biology, political science, psychology, and statistics. These audio samples are 2 seconds in\n",
    "duration, recorded at a rate of 44100 samples per second, with samples stored as 16-bit signed\n",
    "integers in WAV format. \n",
    "Load the recordings into Python using scipy.io.wavfile.read\n",
    "\n",
    "Extract the MFCCs from each sample using code from the file MFCC.py.\n",
    "Store the MFCCs for each word in a separate list. You should have five lists, each containing\n",
    "30 MFCC arrays, corresponding to each of the five words under consideration."
   ]
  },
  {
   "cell_type": "code",
   "execution_count": 7,
   "metadata": {
    "scrolled": true
   },
   "outputs": [
    {
     "name": "stderr",
     "output_type": "stream",
     "text": [
      "C:\\Users\\sgold\\AppData\\Local\\Temp/ipykernel_35244/2089028782.py:11: WavFileWarning: Chunk (non-data) not understood, skipping it.\n",
      "  samplerate, data = wavfile.read(file)\n"
     ]
    }
   ],
   "source": [
    "subjects = {\"Mathematics\":[],\"Biology\":[],\"PoliticalScience\":[],\"Psychology\":[],\"Statistics\":[]}\n",
    "\n",
    "\n",
    "def get_key(file):\n",
    "    for i,name in enumerate(subjects.keys()):\n",
    "        if name in file:\n",
    "            return list(subjects.keys())[i]\n",
    "    return None\n",
    "\n",
    "for file in glob(\"Samples/samples/*.wav\"):\n",
    "    samplerate, data = wavfile.read(file)\n",
    "    new_data = MFCC.extract(data, show = False) #data organization\n",
    "    key = get_key(file)\n",
    "    subjects[key].append(new_data)"
   ]
  },
  {
   "cell_type": "markdown",
   "metadata": {},
   "source": [
    "## Problem 3\n",
    "\n",
    "Partition each list of MFCCs into a training set of 20 samples, and a test set of\n",
    "the remaining 10 samples.\n",
    "Using the training sets, train a GMMHMM on each of the words from the previous problem\n",
    "with at least 10 random restarts, keeping the best model for each word (the one with the highest\n",
    "log-likelihood)."
   ]
  },
  {
   "cell_type": "code",
   "execution_count": 9,
   "metadata": {},
   "outputs": [],
   "source": [
    "def initialize(n_states):\n",
    "    transmat = np.ones((n_states,n_states))/float(n_states)\n",
    "    for i in range(n_states):\n",
    "        transmat[i,:] += np.random.uniform(-1./n_states,1./n_states,n_states)\n",
    "        transmat[i,:] /= sum(transmat[i,:])\n",
    "    startprob = np.ones(n_states)/float(n_states) + np.random.uniform(-1./n_states,1./n_states,n_states)\n",
    "    startprob /= sum(startprob)\n",
    "    return startprob, transmat"
   ]
  },
  {
   "cell_type": "code",
   "execution_count": 10,
   "metadata": {},
   "outputs": [
    {
     "name": "stderr",
     "output_type": "stream",
     "text": [
      "c:\\miniconda\\lib\\site-packages\\numpy\\core\\_asarray.py:102: VisibleDeprecationWarning: Creating an ndarray from ragged nested sequences (which is a list-or-tuple of lists-or-tuples-or ndarrays with different lengths or shapes) is deprecated. If you meant to do this, you must specify 'dtype=object' when creating the ndarray.\n",
      "  return array(a, dtype, copy=False, order=order)\n",
      "<__array_function__ internals>:5: VisibleDeprecationWarning: Creating an ndarray from ragged nested sequences (which is a list-or-tuple of lists-or-tuples-or ndarrays with different lengths or shapes) is deprecated. If you meant to do this, you must specify 'dtype=object' when creating the ndarray.\n"
     ]
    }
   ],
   "source": [
    "best_models = {}\n",
    "for i,key in enumerate(subjects.keys()):\n",
    "    key = list(subjects.keys())[i]\n",
    "    data_sets = np.random.permutation(subjects[key])\n",
    "    train_sets = data_sets[:20]\n",
    "    test_sets = data_sets[20:]\n",
    "    subjects[key] = (train_sets,test_sets)"
   ]
  },
  {
   "cell_type": "code",
   "execution_count": 12,
   "metadata": {},
   "outputs": [
    {
     "name": "stderr",
     "output_type": "stream",
     "text": [
      "c:\\miniconda\\lib\\site-packages\\sklearn\\cluster\\_kmeans.py:1038: UserWarning: KMeans is known to have a memory leak on Windows with MKL, when there are less chunks than available threads. You can avoid it by setting the environment variable OMP_NUM_THREADS=3.\n",
      "  warnings.warn(\n",
      "c:\\miniconda\\lib\\site-packages\\sklearn\\cluster\\_kmeans.py:1038: UserWarning: KMeans is known to have a memory leak on Windows with MKL, when there are less chunks than available threads. You can avoid it by setting the environment variable OMP_NUM_THREADS=2.\n",
      "  warnings.warn(\n",
      "c:\\miniconda\\lib\\site-packages\\sklearn\\cluster\\_kmeans.py:1038: UserWarning: KMeans is known to have a memory leak on Windows with MKL, when there are less chunks than available threads. You can avoid it by setting the environment variable OMP_NUM_THREADS=3.\n",
      "  warnings.warn(\n",
      "c:\\miniconda\\lib\\site-packages\\sklearn\\cluster\\_kmeans.py:1038: UserWarning: KMeans is known to have a memory leak on Windows with MKL, when there are less chunks than available threads. You can avoid it by setting the environment variable OMP_NUM_THREADS=2.\n",
      "  warnings.warn(\n"
     ]
    },
    {
     "name": "stdout",
     "output_type": "stream",
     "text": [
      "-37811.53812290462 -inf\n",
      "assigning best model\n"
     ]
    },
    {
     "name": "stderr",
     "output_type": "stream",
     "text": [
      "c:\\miniconda\\lib\\site-packages\\sklearn\\cluster\\_kmeans.py:1038: UserWarning: KMeans is known to have a memory leak on Windows with MKL, when there are less chunks than available threads. You can avoid it by setting the environment variable OMP_NUM_THREADS=3.\n",
      "  warnings.warn(\n",
      "c:\\miniconda\\lib\\site-packages\\sklearn\\cluster\\_kmeans.py:1038: UserWarning: KMeans is known to have a memory leak on Windows with MKL, when there are less chunks than available threads. You can avoid it by setting the environment variable OMP_NUM_THREADS=3.\n",
      "  warnings.warn(\n",
      "c:\\miniconda\\lib\\site-packages\\sklearn\\cluster\\_kmeans.py:1038: UserWarning: KMeans is known to have a memory leak on Windows with MKL, when there are less chunks than available threads. You can avoid it by setting the environment variable OMP_NUM_THREADS=2.\n",
      "  warnings.warn(\n",
      "c:\\miniconda\\lib\\site-packages\\sklearn\\cluster\\_kmeans.py:1038: UserWarning: KMeans is known to have a memory leak on Windows with MKL, when there are less chunks than available threads. You can avoid it by setting the environment variable OMP_NUM_THREADS=2.\n",
      "  warnings.warn(\n"
     ]
    },
    {
     "name": "stdout",
     "output_type": "stream",
     "text": [
      "-37562.36296424542 -37811.53812290462\n",
      "assigning best model\n"
     ]
    },
    {
     "name": "stderr",
     "output_type": "stream",
     "text": [
      "c:\\miniconda\\lib\\site-packages\\sklearn\\cluster\\_kmeans.py:1038: UserWarning: KMeans is known to have a memory leak on Windows with MKL, when there are less chunks than available threads. You can avoid it by setting the environment variable OMP_NUM_THREADS=3.\n",
      "  warnings.warn(\n",
      "c:\\miniconda\\lib\\site-packages\\sklearn\\cluster\\_kmeans.py:1038: UserWarning: KMeans is known to have a memory leak on Windows with MKL, when there are less chunks than available threads. You can avoid it by setting the environment variable OMP_NUM_THREADS=3.\n",
      "  warnings.warn(\n",
      "c:\\miniconda\\lib\\site-packages\\sklearn\\cluster\\_kmeans.py:1038: UserWarning: KMeans is known to have a memory leak on Windows with MKL, when there are less chunks than available threads. You can avoid it by setting the environment variable OMP_NUM_THREADS=2.\n",
      "  warnings.warn(\n",
      "c:\\miniconda\\lib\\site-packages\\sklearn\\cluster\\_kmeans.py:1038: UserWarning: KMeans is known to have a memory leak on Windows with MKL, when there are less chunks than available threads. You can avoid it by setting the environment variable OMP_NUM_THREADS=2.\n",
      "  warnings.warn(\n"
     ]
    },
    {
     "name": "stdout",
     "output_type": "stream",
     "text": [
      "-37560.19215589425 -37562.36296424542\n",
      "assigning best model\n"
     ]
    },
    {
     "name": "stderr",
     "output_type": "stream",
     "text": [
      "c:\\miniconda\\lib\\site-packages\\sklearn\\cluster\\_kmeans.py:1038: UserWarning: KMeans is known to have a memory leak on Windows with MKL, when there are less chunks than available threads. You can avoid it by setting the environment variable OMP_NUM_THREADS=3.\n",
      "  warnings.warn(\n",
      "c:\\miniconda\\lib\\site-packages\\sklearn\\cluster\\_kmeans.py:1038: UserWarning: KMeans is known to have a memory leak on Windows with MKL, when there are less chunks than available threads. You can avoid it by setting the environment variable OMP_NUM_THREADS=3.\n",
      "  warnings.warn(\n",
      "c:\\miniconda\\lib\\site-packages\\sklearn\\cluster\\_kmeans.py:1038: UserWarning: KMeans is known to have a memory leak on Windows with MKL, when there are less chunks than available threads. You can avoid it by setting the environment variable OMP_NUM_THREADS=2.\n",
      "  warnings.warn(\n",
      "c:\\miniconda\\lib\\site-packages\\sklearn\\cluster\\_kmeans.py:1038: UserWarning: KMeans is known to have a memory leak on Windows with MKL, when there are less chunks than available threads. You can avoid it by setting the environment variable OMP_NUM_THREADS=2.\n",
      "  warnings.warn(\n"
     ]
    },
    {
     "name": "stdout",
     "output_type": "stream",
     "text": [
      "-37560.55430471928 -37560.19215589425\n"
     ]
    },
    {
     "name": "stderr",
     "output_type": "stream",
     "text": [
      "c:\\miniconda\\lib\\site-packages\\sklearn\\cluster\\_kmeans.py:1038: UserWarning: KMeans is known to have a memory leak on Windows with MKL, when there are less chunks than available threads. You can avoid it by setting the environment variable OMP_NUM_THREADS=3.\n",
      "  warnings.warn(\n",
      "c:\\miniconda\\lib\\site-packages\\sklearn\\cluster\\_kmeans.py:1038: UserWarning: KMeans is known to have a memory leak on Windows with MKL, when there are less chunks than available threads. You can avoid it by setting the environment variable OMP_NUM_THREADS=3.\n",
      "  warnings.warn(\n",
      "c:\\miniconda\\lib\\site-packages\\sklearn\\cluster\\_kmeans.py:1038: UserWarning: KMeans is known to have a memory leak on Windows with MKL, when there are less chunks than available threads. You can avoid it by setting the environment variable OMP_NUM_THREADS=2.\n",
      "  warnings.warn(\n",
      "c:\\miniconda\\lib\\site-packages\\sklearn\\cluster\\_kmeans.py:1038: UserWarning: KMeans is known to have a memory leak on Windows with MKL, when there are less chunks than available threads. You can avoid it by setting the environment variable OMP_NUM_THREADS=2.\n",
      "  warnings.warn(\n"
     ]
    },
    {
     "name": "stdout",
     "output_type": "stream",
     "text": [
      "-37518.48693509348 -37560.19215589425\n",
      "assigning best model\n"
     ]
    },
    {
     "name": "stderr",
     "output_type": "stream",
     "text": [
      "c:\\miniconda\\lib\\site-packages\\sklearn\\cluster\\_kmeans.py:1038: UserWarning: KMeans is known to have a memory leak on Windows with MKL, when there are less chunks than available threads. You can avoid it by setting the environment variable OMP_NUM_THREADS=2.\n",
      "  warnings.warn(\n",
      "c:\\miniconda\\lib\\site-packages\\sklearn\\cluster\\_kmeans.py:1038: UserWarning: KMeans is known to have a memory leak on Windows with MKL, when there are less chunks than available threads. You can avoid it by setting the environment variable OMP_NUM_THREADS=3.\n",
      "  warnings.warn(\n",
      "c:\\miniconda\\lib\\site-packages\\sklearn\\cluster\\_kmeans.py:1038: UserWarning: KMeans is known to have a memory leak on Windows with MKL, when there are less chunks than available threads. You can avoid it by setting the environment variable OMP_NUM_THREADS=3.\n",
      "  warnings.warn(\n",
      "c:\\miniconda\\lib\\site-packages\\sklearn\\cluster\\_kmeans.py:1038: UserWarning: KMeans is known to have a memory leak on Windows with MKL, when there are less chunks than available threads. You can avoid it by setting the environment variable OMP_NUM_THREADS=2.\n",
      "  warnings.warn(\n"
     ]
    },
    {
     "name": "stdout",
     "output_type": "stream",
     "text": [
      "-37558.3803404603 -37518.48693509348\n"
     ]
    },
    {
     "name": "stderr",
     "output_type": "stream",
     "text": [
      "c:\\miniconda\\lib\\site-packages\\sklearn\\cluster\\_kmeans.py:1038: UserWarning: KMeans is known to have a memory leak on Windows with MKL, when there are less chunks than available threads. You can avoid it by setting the environment variable OMP_NUM_THREADS=3.\n",
      "  warnings.warn(\n",
      "c:\\miniconda\\lib\\site-packages\\sklearn\\cluster\\_kmeans.py:1038: UserWarning: KMeans is known to have a memory leak on Windows with MKL, when there are less chunks than available threads. You can avoid it by setting the environment variable OMP_NUM_THREADS=2.\n",
      "  warnings.warn(\n",
      "c:\\miniconda\\lib\\site-packages\\sklearn\\cluster\\_kmeans.py:1038: UserWarning: KMeans is known to have a memory leak on Windows with MKL, when there are less chunks than available threads. You can avoid it by setting the environment variable OMP_NUM_THREADS=2.\n",
      "  warnings.warn(\n",
      "c:\\miniconda\\lib\\site-packages\\sklearn\\cluster\\_kmeans.py:1038: UserWarning: KMeans is known to have a memory leak on Windows with MKL, when there are less chunks than available threads. You can avoid it by setting the environment variable OMP_NUM_THREADS=3.\n",
      "  warnings.warn(\n"
     ]
    },
    {
     "name": "stdout",
     "output_type": "stream",
     "text": [
      "-37561.5448764627 -37518.48693509348\n"
     ]
    },
    {
     "name": "stderr",
     "output_type": "stream",
     "text": [
      "c:\\miniconda\\lib\\site-packages\\sklearn\\cluster\\_kmeans.py:1038: UserWarning: KMeans is known to have a memory leak on Windows with MKL, when there are less chunks than available threads. You can avoid it by setting the environment variable OMP_NUM_THREADS=2.\n",
      "  warnings.warn(\n",
      "c:\\miniconda\\lib\\site-packages\\sklearn\\cluster\\_kmeans.py:1038: UserWarning: KMeans is known to have a memory leak on Windows with MKL, when there are less chunks than available threads. You can avoid it by setting the environment variable OMP_NUM_THREADS=3.\n",
      "  warnings.warn(\n",
      "c:\\miniconda\\lib\\site-packages\\sklearn\\cluster\\_kmeans.py:1038: UserWarning: KMeans is known to have a memory leak on Windows with MKL, when there are less chunks than available threads. You can avoid it by setting the environment variable OMP_NUM_THREADS=3.\n",
      "  warnings.warn(\n",
      "c:\\miniconda\\lib\\site-packages\\sklearn\\cluster\\_kmeans.py:1038: UserWarning: KMeans is known to have a memory leak on Windows with MKL, when there are less chunks than available threads. You can avoid it by setting the environment variable OMP_NUM_THREADS=2.\n",
      "  warnings.warn(\n"
     ]
    },
    {
     "name": "stdout",
     "output_type": "stream",
     "text": [
      "-37562.128782505206 -37518.48693509348\n"
     ]
    },
    {
     "name": "stderr",
     "output_type": "stream",
     "text": [
      "c:\\miniconda\\lib\\site-packages\\sklearn\\cluster\\_kmeans.py:1038: UserWarning: KMeans is known to have a memory leak on Windows with MKL, when there are less chunks than available threads. You can avoid it by setting the environment variable OMP_NUM_THREADS=3.\n",
      "  warnings.warn(\n",
      "c:\\miniconda\\lib\\site-packages\\sklearn\\cluster\\_kmeans.py:1038: UserWarning: KMeans is known to have a memory leak on Windows with MKL, when there are less chunks than available threads. You can avoid it by setting the environment variable OMP_NUM_THREADS=2.\n",
      "  warnings.warn(\n",
      "c:\\miniconda\\lib\\site-packages\\sklearn\\cluster\\_kmeans.py:1038: UserWarning: KMeans is known to have a memory leak on Windows with MKL, when there are less chunks than available threads. You can avoid it by setting the environment variable OMP_NUM_THREADS=2.\n",
      "  warnings.warn(\n",
      "c:\\miniconda\\lib\\site-packages\\sklearn\\cluster\\_kmeans.py:1038: UserWarning: KMeans is known to have a memory leak on Windows with MKL, when there are less chunks than available threads. You can avoid it by setting the environment variable OMP_NUM_THREADS=3.\n",
      "  warnings.warn(\n"
     ]
    },
    {
     "name": "stdout",
     "output_type": "stream",
     "text": [
      "-37808.88781912843 -37518.48693509348\n"
     ]
    },
    {
     "name": "stderr",
     "output_type": "stream",
     "text": [
      "c:\\miniconda\\lib\\site-packages\\sklearn\\cluster\\_kmeans.py:1038: UserWarning: KMeans is known to have a memory leak on Windows with MKL, when there are less chunks than available threads. You can avoid it by setting the environment variable OMP_NUM_THREADS=2.\n",
      "  warnings.warn(\n",
      "c:\\miniconda\\lib\\site-packages\\sklearn\\cluster\\_kmeans.py:1038: UserWarning: KMeans is known to have a memory leak on Windows with MKL, when there are less chunks than available threads. You can avoid it by setting the environment variable OMP_NUM_THREADS=3.\n",
      "  warnings.warn(\n",
      "c:\\miniconda\\lib\\site-packages\\sklearn\\cluster\\_kmeans.py:1038: UserWarning: KMeans is known to have a memory leak on Windows with MKL, when there are less chunks than available threads. You can avoid it by setting the environment variable OMP_NUM_THREADS=2.\n",
      "  warnings.warn(\n",
      "c:\\miniconda\\lib\\site-packages\\sklearn\\cluster\\_kmeans.py:1038: UserWarning: KMeans is known to have a memory leak on Windows with MKL, when there are less chunks than available threads. You can avoid it by setting the environment variable OMP_NUM_THREADS=3.\n",
      "  warnings.warn(\n"
     ]
    },
    {
     "name": "stdout",
     "output_type": "stream",
     "text": [
      "-37560.73630469343 -37518.48693509348\n"
     ]
    },
    {
     "name": "stderr",
     "output_type": "stream",
     "text": [
      "c:\\miniconda\\lib\\site-packages\\sklearn\\cluster\\_kmeans.py:1038: UserWarning: KMeans is known to have a memory leak on Windows with MKL, when there are less chunks than available threads. You can avoid it by setting the environment variable OMP_NUM_THREADS=2.\n",
      "  warnings.warn(\n",
      "c:\\miniconda\\lib\\site-packages\\sklearn\\cluster\\_kmeans.py:1038: UserWarning: KMeans is known to have a memory leak on Windows with MKL, when there are less chunks than available threads. You can avoid it by setting the environment variable OMP_NUM_THREADS=3.\n",
      "  warnings.warn(\n",
      "c:\\miniconda\\lib\\site-packages\\sklearn\\cluster\\_kmeans.py:1038: UserWarning: KMeans is known to have a memory leak on Windows with MKL, when there are less chunks than available threads. You can avoid it by setting the environment variable OMP_NUM_THREADS=2.\n",
      "  warnings.warn(\n",
      "c:\\miniconda\\lib\\site-packages\\sklearn\\cluster\\_kmeans.py:1038: UserWarning: KMeans is known to have a memory leak on Windows with MKL, when there are less chunks than available threads. You can avoid it by setting the environment variable OMP_NUM_THREADS=2.\n",
      "  warnings.warn(\n"
     ]
    },
    {
     "name": "stdout",
     "output_type": "stream",
     "text": [
      "-34535.01614648945 -inf\n",
      "assigning best model\n"
     ]
    },
    {
     "name": "stderr",
     "output_type": "stream",
     "text": [
      "c:\\miniconda\\lib\\site-packages\\sklearn\\cluster\\_kmeans.py:1038: UserWarning: KMeans is known to have a memory leak on Windows with MKL, when there are less chunks than available threads. You can avoid it by setting the environment variable OMP_NUM_THREADS=2.\n",
      "  warnings.warn(\n",
      "c:\\miniconda\\lib\\site-packages\\sklearn\\cluster\\_kmeans.py:1038: UserWarning: KMeans is known to have a memory leak on Windows with MKL, when there are less chunks than available threads. You can avoid it by setting the environment variable OMP_NUM_THREADS=2.\n",
      "  warnings.warn(\n",
      "c:\\miniconda\\lib\\site-packages\\sklearn\\cluster\\_kmeans.py:1038: UserWarning: KMeans is known to have a memory leak on Windows with MKL, when there are less chunks than available threads. You can avoid it by setting the environment variable OMP_NUM_THREADS=3.\n",
      "  warnings.warn(\n",
      "c:\\miniconda\\lib\\site-packages\\sklearn\\cluster\\_kmeans.py:1038: UserWarning: KMeans is known to have a memory leak on Windows with MKL, when there are less chunks than available threads. You can avoid it by setting the environment variable OMP_NUM_THREADS=2.\n",
      "  warnings.warn(\n"
     ]
    },
    {
     "name": "stdout",
     "output_type": "stream",
     "text": [
      "-34537.74151162985 -34535.01614648945\n"
     ]
    },
    {
     "name": "stderr",
     "output_type": "stream",
     "text": [
      "c:\\miniconda\\lib\\site-packages\\sklearn\\cluster\\_kmeans.py:1038: UserWarning: KMeans is known to have a memory leak on Windows with MKL, when there are less chunks than available threads. You can avoid it by setting the environment variable OMP_NUM_THREADS=3.\n",
      "  warnings.warn(\n",
      "c:\\miniconda\\lib\\site-packages\\sklearn\\cluster\\_kmeans.py:1038: UserWarning: KMeans is known to have a memory leak on Windows with MKL, when there are less chunks than available threads. You can avoid it by setting the environment variable OMP_NUM_THREADS=2.\n",
      "  warnings.warn(\n",
      "c:\\miniconda\\lib\\site-packages\\sklearn\\cluster\\_kmeans.py:1038: UserWarning: KMeans is known to have a memory leak on Windows with MKL, when there are less chunks than available threads. You can avoid it by setting the environment variable OMP_NUM_THREADS=2.\n",
      "  warnings.warn(\n",
      "c:\\miniconda\\lib\\site-packages\\sklearn\\cluster\\_kmeans.py:1038: UserWarning: KMeans is known to have a memory leak on Windows with MKL, when there are less chunks than available threads. You can avoid it by setting the environment variable OMP_NUM_THREADS=2.\n",
      "  warnings.warn(\n"
     ]
    },
    {
     "name": "stdout",
     "output_type": "stream",
     "text": [
      "-34545.32962762633 -34535.01614648945\n"
     ]
    },
    {
     "name": "stderr",
     "output_type": "stream",
     "text": [
      "c:\\miniconda\\lib\\site-packages\\sklearn\\cluster\\_kmeans.py:1038: UserWarning: KMeans is known to have a memory leak on Windows with MKL, when there are less chunks than available threads. You can avoid it by setting the environment variable OMP_NUM_THREADS=2.\n",
      "  warnings.warn(\n",
      "c:\\miniconda\\lib\\site-packages\\sklearn\\cluster\\_kmeans.py:1038: UserWarning: KMeans is known to have a memory leak on Windows with MKL, when there are less chunks than available threads. You can avoid it by setting the environment variable OMP_NUM_THREADS=3.\n",
      "  warnings.warn(\n",
      "c:\\miniconda\\lib\\site-packages\\sklearn\\cluster\\_kmeans.py:1038: UserWarning: KMeans is known to have a memory leak on Windows with MKL, when there are less chunks than available threads. You can avoid it by setting the environment variable OMP_NUM_THREADS=2.\n",
      "  warnings.warn(\n",
      "c:\\miniconda\\lib\\site-packages\\sklearn\\cluster\\_kmeans.py:1038: UserWarning: KMeans is known to have a memory leak on Windows with MKL, when there are less chunks than available threads. You can avoid it by setting the environment variable OMP_NUM_THREADS=2.\n",
      "  warnings.warn(\n"
     ]
    },
    {
     "name": "stdout",
     "output_type": "stream",
     "text": [
      "-34530.988311641384 -34535.01614648945\n",
      "assigning best model\n"
     ]
    },
    {
     "name": "stderr",
     "output_type": "stream",
     "text": [
      "c:\\miniconda\\lib\\site-packages\\sklearn\\cluster\\_kmeans.py:1038: UserWarning: KMeans is known to have a memory leak on Windows with MKL, when there are less chunks than available threads. You can avoid it by setting the environment variable OMP_NUM_THREADS=3.\n",
      "  warnings.warn(\n",
      "c:\\miniconda\\lib\\site-packages\\sklearn\\cluster\\_kmeans.py:1038: UserWarning: KMeans is known to have a memory leak on Windows with MKL, when there are less chunks than available threads. You can avoid it by setting the environment variable OMP_NUM_THREADS=2.\n",
      "  warnings.warn(\n",
      "c:\\miniconda\\lib\\site-packages\\sklearn\\cluster\\_kmeans.py:1038: UserWarning: KMeans is known to have a memory leak on Windows with MKL, when there are less chunks than available threads. You can avoid it by setting the environment variable OMP_NUM_THREADS=2.\n",
      "  warnings.warn(\n",
      "c:\\miniconda\\lib\\site-packages\\sklearn\\cluster\\_kmeans.py:1038: UserWarning: KMeans is known to have a memory leak on Windows with MKL, when there are less chunks than available threads. You can avoid it by setting the environment variable OMP_NUM_THREADS=2.\n",
      "  warnings.warn(\n"
     ]
    },
    {
     "name": "stdout",
     "output_type": "stream",
     "text": [
      "-34529.73624763317 -34530.988311641384\n",
      "assigning best model\n"
     ]
    },
    {
     "name": "stderr",
     "output_type": "stream",
     "text": [
      "c:\\miniconda\\lib\\site-packages\\sklearn\\cluster\\_kmeans.py:1038: UserWarning: KMeans is known to have a memory leak on Windows with MKL, when there are less chunks than available threads. You can avoid it by setting the environment variable OMP_NUM_THREADS=2.\n",
      "  warnings.warn(\n",
      "c:\\miniconda\\lib\\site-packages\\sklearn\\cluster\\_kmeans.py:1038: UserWarning: KMeans is known to have a memory leak on Windows with MKL, when there are less chunks than available threads. You can avoid it by setting the environment variable OMP_NUM_THREADS=2.\n",
      "  warnings.warn(\n",
      "c:\\miniconda\\lib\\site-packages\\sklearn\\cluster\\_kmeans.py:1038: UserWarning: KMeans is known to have a memory leak on Windows with MKL, when there are less chunks than available threads. You can avoid it by setting the environment variable OMP_NUM_THREADS=2.\n",
      "  warnings.warn(\n",
      "c:\\miniconda\\lib\\site-packages\\sklearn\\cluster\\_kmeans.py:1038: UserWarning: KMeans is known to have a memory leak on Windows with MKL, when there are less chunks than available threads. You can avoid it by setting the environment variable OMP_NUM_THREADS=3.\n",
      "  warnings.warn(\n"
     ]
    },
    {
     "name": "stdout",
     "output_type": "stream",
     "text": [
      "-34540.257066233164 -34529.73624763317\n"
     ]
    },
    {
     "name": "stderr",
     "output_type": "stream",
     "text": [
      "c:\\miniconda\\lib\\site-packages\\sklearn\\cluster\\_kmeans.py:1038: UserWarning: KMeans is known to have a memory leak on Windows with MKL, when there are less chunks than available threads. You can avoid it by setting the environment variable OMP_NUM_THREADS=3.\n",
      "  warnings.warn(\n",
      "c:\\miniconda\\lib\\site-packages\\sklearn\\cluster\\_kmeans.py:1038: UserWarning: KMeans is known to have a memory leak on Windows with MKL, when there are less chunks than available threads. You can avoid it by setting the environment variable OMP_NUM_THREADS=2.\n",
      "  warnings.warn(\n",
      "c:\\miniconda\\lib\\site-packages\\sklearn\\cluster\\_kmeans.py:1038: UserWarning: KMeans is known to have a memory leak on Windows with MKL, when there are less chunks than available threads. You can avoid it by setting the environment variable OMP_NUM_THREADS=2.\n",
      "  warnings.warn(\n",
      "c:\\miniconda\\lib\\site-packages\\sklearn\\cluster\\_kmeans.py:1038: UserWarning: KMeans is known to have a memory leak on Windows with MKL, when there are less chunks than available threads. You can avoid it by setting the environment variable OMP_NUM_THREADS=2.\n",
      "  warnings.warn(\n"
     ]
    },
    {
     "name": "stdout",
     "output_type": "stream",
     "text": [
      "-34530.991013840794 -34529.73624763317\n"
     ]
    },
    {
     "name": "stderr",
     "output_type": "stream",
     "text": [
      "c:\\miniconda\\lib\\site-packages\\sklearn\\cluster\\_kmeans.py:1038: UserWarning: KMeans is known to have a memory leak on Windows with MKL, when there are less chunks than available threads. You can avoid it by setting the environment variable OMP_NUM_THREADS=2.\n",
      "  warnings.warn(\n",
      "c:\\miniconda\\lib\\site-packages\\sklearn\\cluster\\_kmeans.py:1038: UserWarning: KMeans is known to have a memory leak on Windows with MKL, when there are less chunks than available threads. You can avoid it by setting the environment variable OMP_NUM_THREADS=2.\n",
      "  warnings.warn(\n",
      "c:\\miniconda\\lib\\site-packages\\sklearn\\cluster\\_kmeans.py:1038: UserWarning: KMeans is known to have a memory leak on Windows with MKL, when there are less chunks than available threads. You can avoid it by setting the environment variable OMP_NUM_THREADS=3.\n",
      "  warnings.warn(\n",
      "c:\\miniconda\\lib\\site-packages\\sklearn\\cluster\\_kmeans.py:1038: UserWarning: KMeans is known to have a memory leak on Windows with MKL, when there are less chunks than available threads. You can avoid it by setting the environment variable OMP_NUM_THREADS=2.\n",
      "  warnings.warn(\n"
     ]
    },
    {
     "name": "stdout",
     "output_type": "stream",
     "text": [
      "-34530.98132813744 -34529.73624763317\n"
     ]
    },
    {
     "name": "stderr",
     "output_type": "stream",
     "text": [
      "c:\\miniconda\\lib\\site-packages\\sklearn\\cluster\\_kmeans.py:1038: UserWarning: KMeans is known to have a memory leak on Windows with MKL, when there are less chunks than available threads. You can avoid it by setting the environment variable OMP_NUM_THREADS=2.\n",
      "  warnings.warn(\n",
      "c:\\miniconda\\lib\\site-packages\\sklearn\\cluster\\_kmeans.py:1038: UserWarning: KMeans is known to have a memory leak on Windows with MKL, when there are less chunks than available threads. You can avoid it by setting the environment variable OMP_NUM_THREADS=3.\n",
      "  warnings.warn(\n",
      "c:\\miniconda\\lib\\site-packages\\sklearn\\cluster\\_kmeans.py:1038: UserWarning: KMeans is known to have a memory leak on Windows with MKL, when there are less chunks than available threads. You can avoid it by setting the environment variable OMP_NUM_THREADS=2.\n",
      "  warnings.warn(\n",
      "c:\\miniconda\\lib\\site-packages\\sklearn\\cluster\\_kmeans.py:1038: UserWarning: KMeans is known to have a memory leak on Windows with MKL, when there are less chunks than available threads. You can avoid it by setting the environment variable OMP_NUM_THREADS=2.\n",
      "  warnings.warn(\n"
     ]
    },
    {
     "name": "stdout",
     "output_type": "stream",
     "text": [
      "-34540.06114030336 -34529.73624763317\n"
     ]
    },
    {
     "name": "stderr",
     "output_type": "stream",
     "text": [
      "c:\\miniconda\\lib\\site-packages\\sklearn\\cluster\\_kmeans.py:1038: UserWarning: KMeans is known to have a memory leak on Windows with MKL, when there are less chunks than available threads. You can avoid it by setting the environment variable OMP_NUM_THREADS=2.\n",
      "  warnings.warn(\n",
      "c:\\miniconda\\lib\\site-packages\\sklearn\\cluster\\_kmeans.py:1038: UserWarning: KMeans is known to have a memory leak on Windows with MKL, when there are less chunks than available threads. You can avoid it by setting the environment variable OMP_NUM_THREADS=2.\n",
      "  warnings.warn(\n",
      "c:\\miniconda\\lib\\site-packages\\sklearn\\cluster\\_kmeans.py:1038: UserWarning: KMeans is known to have a memory leak on Windows with MKL, when there are less chunks than available threads. You can avoid it by setting the environment variable OMP_NUM_THREADS=3.\n",
      "  warnings.warn(\n",
      "c:\\miniconda\\lib\\site-packages\\sklearn\\cluster\\_kmeans.py:1038: UserWarning: KMeans is known to have a memory leak on Windows with MKL, when there are less chunks than available threads. You can avoid it by setting the environment variable OMP_NUM_THREADS=2.\n",
      "  warnings.warn(\n"
     ]
    },
    {
     "name": "stdout",
     "output_type": "stream",
     "text": [
      "-34530.15846680875 -34529.73624763317\n"
     ]
    },
    {
     "name": "stderr",
     "output_type": "stream",
     "text": [
      "c:\\miniconda\\lib\\site-packages\\sklearn\\cluster\\_kmeans.py:1038: UserWarning: KMeans is known to have a memory leak on Windows with MKL, when there are less chunks than available threads. You can avoid it by setting the environment variable OMP_NUM_THREADS=6.\n",
      "  warnings.warn(\n",
      "c:\\miniconda\\lib\\site-packages\\sklearn\\cluster\\_kmeans.py:1038: UserWarning: KMeans is known to have a memory leak on Windows with MKL, when there are less chunks than available threads. You can avoid it by setting the environment variable OMP_NUM_THREADS=5.\n",
      "  warnings.warn(\n",
      "c:\\miniconda\\lib\\site-packages\\sklearn\\cluster\\_kmeans.py:1038: UserWarning: KMeans is known to have a memory leak on Windows with MKL, when there are less chunks than available threads. You can avoid it by setting the environment variable OMP_NUM_THREADS=6.\n",
      "  warnings.warn(\n",
      "c:\\miniconda\\lib\\site-packages\\sklearn\\cluster\\_kmeans.py:1038: UserWarning: KMeans is known to have a memory leak on Windows with MKL, when there are less chunks than available threads. You can avoid it by setting the environment variable OMP_NUM_THREADS=6.\n",
      "  warnings.warn(\n"
     ]
    },
    {
     "name": "stdout",
     "output_type": "stream",
     "text": [
      "-68634.7068645563 -inf\n",
      "assigning best model\n"
     ]
    },
    {
     "name": "stderr",
     "output_type": "stream",
     "text": [
      "c:\\miniconda\\lib\\site-packages\\sklearn\\cluster\\_kmeans.py:1038: UserWarning: KMeans is known to have a memory leak on Windows with MKL, when there are less chunks than available threads. You can avoid it by setting the environment variable OMP_NUM_THREADS=6.\n",
      "  warnings.warn(\n",
      "c:\\miniconda\\lib\\site-packages\\sklearn\\cluster\\_kmeans.py:1038: UserWarning: KMeans is known to have a memory leak on Windows with MKL, when there are less chunks than available threads. You can avoid it by setting the environment variable OMP_NUM_THREADS=6.\n",
      "  warnings.warn(\n",
      "c:\\miniconda\\lib\\site-packages\\sklearn\\cluster\\_kmeans.py:1038: UserWarning: KMeans is known to have a memory leak on Windows with MKL, when there are less chunks than available threads. You can avoid it by setting the environment variable OMP_NUM_THREADS=6.\n",
      "  warnings.warn(\n",
      "c:\\miniconda\\lib\\site-packages\\sklearn\\cluster\\_kmeans.py:1038: UserWarning: KMeans is known to have a memory leak on Windows with MKL, when there are less chunks than available threads. You can avoid it by setting the environment variable OMP_NUM_THREADS=5.\n",
      "  warnings.warn(\n"
     ]
    },
    {
     "name": "stdout",
     "output_type": "stream",
     "text": [
      "-68634.7932490569 -68634.7068645563\n"
     ]
    },
    {
     "name": "stderr",
     "output_type": "stream",
     "text": [
      "c:\\miniconda\\lib\\site-packages\\sklearn\\cluster\\_kmeans.py:1038: UserWarning: KMeans is known to have a memory leak on Windows with MKL, when there are less chunks than available threads. You can avoid it by setting the environment variable OMP_NUM_THREADS=6.\n",
      "  warnings.warn(\n",
      "c:\\miniconda\\lib\\site-packages\\sklearn\\cluster\\_kmeans.py:1038: UserWarning: KMeans is known to have a memory leak on Windows with MKL, when there are less chunks than available threads. You can avoid it by setting the environment variable OMP_NUM_THREADS=6.\n",
      "  warnings.warn(\n",
      "c:\\miniconda\\lib\\site-packages\\sklearn\\cluster\\_kmeans.py:1038: UserWarning: KMeans is known to have a memory leak on Windows with MKL, when there are less chunks than available threads. You can avoid it by setting the environment variable OMP_NUM_THREADS=5.\n",
      "  warnings.warn(\n",
      "c:\\miniconda\\lib\\site-packages\\sklearn\\cluster\\_kmeans.py:1038: UserWarning: KMeans is known to have a memory leak on Windows with MKL, when there are less chunks than available threads. You can avoid it by setting the environment variable OMP_NUM_THREADS=6.\n",
      "  warnings.warn(\n"
     ]
    },
    {
     "name": "stdout",
     "output_type": "stream",
     "text": [
      "-68635.24571072312 -68634.7068645563\n"
     ]
    },
    {
     "name": "stderr",
     "output_type": "stream",
     "text": [
      "c:\\miniconda\\lib\\site-packages\\sklearn\\cluster\\_kmeans.py:1038: UserWarning: KMeans is known to have a memory leak on Windows with MKL, when there are less chunks than available threads. You can avoid it by setting the environment variable OMP_NUM_THREADS=6.\n",
      "  warnings.warn(\n",
      "c:\\miniconda\\lib\\site-packages\\sklearn\\cluster\\_kmeans.py:1038: UserWarning: KMeans is known to have a memory leak on Windows with MKL, when there are less chunks than available threads. You can avoid it by setting the environment variable OMP_NUM_THREADS=6.\n",
      "  warnings.warn(\n",
      "c:\\miniconda\\lib\\site-packages\\sklearn\\cluster\\_kmeans.py:1038: UserWarning: KMeans is known to have a memory leak on Windows with MKL, when there are less chunks than available threads. You can avoid it by setting the environment variable OMP_NUM_THREADS=6.\n",
      "  warnings.warn(\n",
      "c:\\miniconda\\lib\\site-packages\\sklearn\\cluster\\_kmeans.py:1038: UserWarning: KMeans is known to have a memory leak on Windows with MKL, when there are less chunks than available threads. You can avoid it by setting the environment variable OMP_NUM_THREADS=5.\n",
      "  warnings.warn(\n"
     ]
    },
    {
     "name": "stdout",
     "output_type": "stream",
     "text": [
      "-68634.9100702943 -68634.7068645563\n"
     ]
    },
    {
     "name": "stderr",
     "output_type": "stream",
     "text": [
      "c:\\miniconda\\lib\\site-packages\\sklearn\\cluster\\_kmeans.py:1038: UserWarning: KMeans is known to have a memory leak on Windows with MKL, when there are less chunks than available threads. You can avoid it by setting the environment variable OMP_NUM_THREADS=6.\n",
      "  warnings.warn(\n",
      "c:\\miniconda\\lib\\site-packages\\sklearn\\cluster\\_kmeans.py:1038: UserWarning: KMeans is known to have a memory leak on Windows with MKL, when there are less chunks than available threads. You can avoid it by setting the environment variable OMP_NUM_THREADS=6.\n",
      "  warnings.warn(\n",
      "c:\\miniconda\\lib\\site-packages\\sklearn\\cluster\\_kmeans.py:1038: UserWarning: KMeans is known to have a memory leak on Windows with MKL, when there are less chunks than available threads. You can avoid it by setting the environment variable OMP_NUM_THREADS=5.\n",
      "  warnings.warn(\n",
      "c:\\miniconda\\lib\\site-packages\\sklearn\\cluster\\_kmeans.py:1038: UserWarning: KMeans is known to have a memory leak on Windows with MKL, when there are less chunks than available threads. You can avoid it by setting the environment variable OMP_NUM_THREADS=6.\n",
      "  warnings.warn(\n"
     ]
    },
    {
     "name": "stdout",
     "output_type": "stream",
     "text": [
      "-68634.91612426146 -68634.7068645563\n"
     ]
    },
    {
     "name": "stderr",
     "output_type": "stream",
     "text": [
      "c:\\miniconda\\lib\\site-packages\\sklearn\\cluster\\_kmeans.py:1038: UserWarning: KMeans is known to have a memory leak on Windows with MKL, when there are less chunks than available threads. You can avoid it by setting the environment variable OMP_NUM_THREADS=6.\n",
      "  warnings.warn(\n",
      "c:\\miniconda\\lib\\site-packages\\sklearn\\cluster\\_kmeans.py:1038: UserWarning: KMeans is known to have a memory leak on Windows with MKL, when there are less chunks than available threads. You can avoid it by setting the environment variable OMP_NUM_THREADS=6.\n",
      "  warnings.warn(\n",
      "c:\\miniconda\\lib\\site-packages\\sklearn\\cluster\\_kmeans.py:1038: UserWarning: KMeans is known to have a memory leak on Windows with MKL, when there are less chunks than available threads. You can avoid it by setting the environment variable OMP_NUM_THREADS=6.\n",
      "  warnings.warn(\n",
      "c:\\miniconda\\lib\\site-packages\\sklearn\\cluster\\_kmeans.py:1038: UserWarning: KMeans is known to have a memory leak on Windows with MKL, when there are less chunks than available threads. You can avoid it by setting the environment variable OMP_NUM_THREADS=5.\n",
      "  warnings.warn(\n"
     ]
    },
    {
     "name": "stdout",
     "output_type": "stream",
     "text": [
      "-68634.90029872533 -68634.7068645563\n"
     ]
    },
    {
     "name": "stderr",
     "output_type": "stream",
     "text": [
      "c:\\miniconda\\lib\\site-packages\\sklearn\\cluster\\_kmeans.py:1038: UserWarning: KMeans is known to have a memory leak on Windows with MKL, when there are less chunks than available threads. You can avoid it by setting the environment variable OMP_NUM_THREADS=5.\n",
      "  warnings.warn(\n",
      "c:\\miniconda\\lib\\site-packages\\sklearn\\cluster\\_kmeans.py:1038: UserWarning: KMeans is known to have a memory leak on Windows with MKL, when there are less chunks than available threads. You can avoid it by setting the environment variable OMP_NUM_THREADS=6.\n",
      "  warnings.warn(\n",
      "c:\\miniconda\\lib\\site-packages\\sklearn\\cluster\\_kmeans.py:1038: UserWarning: KMeans is known to have a memory leak on Windows with MKL, when there are less chunks than available threads. You can avoid it by setting the environment variable OMP_NUM_THREADS=6.\n",
      "  warnings.warn(\n",
      "c:\\miniconda\\lib\\site-packages\\sklearn\\cluster\\_kmeans.py:1038: UserWarning: KMeans is known to have a memory leak on Windows with MKL, when there are less chunks than available threads. You can avoid it by setting the environment variable OMP_NUM_THREADS=6.\n",
      "  warnings.warn(\n"
     ]
    },
    {
     "name": "stdout",
     "output_type": "stream",
     "text": [
      "-68639.00098530122 -68634.7068645563\n"
     ]
    },
    {
     "name": "stderr",
     "output_type": "stream",
     "text": [
      "c:\\miniconda\\lib\\site-packages\\sklearn\\cluster\\_kmeans.py:1038: UserWarning: KMeans is known to have a memory leak on Windows with MKL, when there are less chunks than available threads. You can avoid it by setting the environment variable OMP_NUM_THREADS=6.\n",
      "  warnings.warn(\n",
      "c:\\miniconda\\lib\\site-packages\\sklearn\\cluster\\_kmeans.py:1038: UserWarning: KMeans is known to have a memory leak on Windows with MKL, when there are less chunks than available threads. You can avoid it by setting the environment variable OMP_NUM_THREADS=5.\n",
      "  warnings.warn(\n",
      "c:\\miniconda\\lib\\site-packages\\sklearn\\cluster\\_kmeans.py:1038: UserWarning: KMeans is known to have a memory leak on Windows with MKL, when there are less chunks than available threads. You can avoid it by setting the environment variable OMP_NUM_THREADS=6.\n",
      "  warnings.warn(\n",
      "c:\\miniconda\\lib\\site-packages\\sklearn\\cluster\\_kmeans.py:1038: UserWarning: KMeans is known to have a memory leak on Windows with MKL, when there are less chunks than available threads. You can avoid it by setting the environment variable OMP_NUM_THREADS=6.\n",
      "  warnings.warn(\n"
     ]
    },
    {
     "name": "stdout",
     "output_type": "stream",
     "text": [
      "-68635.37079206028 -68634.7068645563\n"
     ]
    },
    {
     "name": "stderr",
     "output_type": "stream",
     "text": [
      "c:\\miniconda\\lib\\site-packages\\sklearn\\cluster\\_kmeans.py:1038: UserWarning: KMeans is known to have a memory leak on Windows with MKL, when there are less chunks than available threads. You can avoid it by setting the environment variable OMP_NUM_THREADS=6.\n",
      "  warnings.warn(\n",
      "c:\\miniconda\\lib\\site-packages\\sklearn\\cluster\\_kmeans.py:1038: UserWarning: KMeans is known to have a memory leak on Windows with MKL, when there are less chunks than available threads. You can avoid it by setting the environment variable OMP_NUM_THREADS=6.\n",
      "  warnings.warn(\n",
      "c:\\miniconda\\lib\\site-packages\\sklearn\\cluster\\_kmeans.py:1038: UserWarning: KMeans is known to have a memory leak on Windows with MKL, when there are less chunks than available threads. You can avoid it by setting the environment variable OMP_NUM_THREADS=6.\n",
      "  warnings.warn(\n",
      "c:\\miniconda\\lib\\site-packages\\sklearn\\cluster\\_kmeans.py:1038: UserWarning: KMeans is known to have a memory leak on Windows with MKL, when there are less chunks than available threads. You can avoid it by setting the environment variable OMP_NUM_THREADS=5.\n",
      "  warnings.warn(\n"
     ]
    },
    {
     "name": "stdout",
     "output_type": "stream",
     "text": [
      "-68635.05076049622 -68634.7068645563\n"
     ]
    },
    {
     "name": "stderr",
     "output_type": "stream",
     "text": [
      "c:\\miniconda\\lib\\site-packages\\sklearn\\cluster\\_kmeans.py:1038: UserWarning: KMeans is known to have a memory leak on Windows with MKL, when there are less chunks than available threads. You can avoid it by setting the environment variable OMP_NUM_THREADS=6.\n",
      "  warnings.warn(\n",
      "c:\\miniconda\\lib\\site-packages\\sklearn\\cluster\\_kmeans.py:1038: UserWarning: KMeans is known to have a memory leak on Windows with MKL, when there are less chunks than available threads. You can avoid it by setting the environment variable OMP_NUM_THREADS=5.\n",
      "  warnings.warn(\n",
      "c:\\miniconda\\lib\\site-packages\\sklearn\\cluster\\_kmeans.py:1038: UserWarning: KMeans is known to have a memory leak on Windows with MKL, when there are less chunks than available threads. You can avoid it by setting the environment variable OMP_NUM_THREADS=6.\n",
      "  warnings.warn(\n",
      "c:\\miniconda\\lib\\site-packages\\sklearn\\cluster\\_kmeans.py:1038: UserWarning: KMeans is known to have a memory leak on Windows with MKL, when there are less chunks than available threads. You can avoid it by setting the environment variable OMP_NUM_THREADS=6.\n",
      "  warnings.warn(\n"
     ]
    },
    {
     "name": "stdout",
     "output_type": "stream",
     "text": [
      "-68635.51037235642 -68634.7068645563\n"
     ]
    },
    {
     "name": "stderr",
     "output_type": "stream",
     "text": [
      "c:\\miniconda\\lib\\site-packages\\sklearn\\cluster\\_kmeans.py:1038: UserWarning: KMeans is known to have a memory leak on Windows with MKL, when there are less chunks than available threads. You can avoid it by setting the environment variable OMP_NUM_THREADS=4.\n",
      "  warnings.warn(\n",
      "c:\\miniconda\\lib\\site-packages\\sklearn\\cluster\\_kmeans.py:1038: UserWarning: KMeans is known to have a memory leak on Windows with MKL, when there are less chunks than available threads. You can avoid it by setting the environment variable OMP_NUM_THREADS=2.\n",
      "  warnings.warn(\n",
      "c:\\miniconda\\lib\\site-packages\\sklearn\\cluster\\_kmeans.py:1038: UserWarning: KMeans is known to have a memory leak on Windows with MKL, when there are less chunks than available threads. You can avoid it by setting the environment variable OMP_NUM_THREADS=2.\n",
      "  warnings.warn(\n",
      "c:\\miniconda\\lib\\site-packages\\sklearn\\cluster\\_kmeans.py:1038: UserWarning: KMeans is known to have a memory leak on Windows with MKL, when there are less chunks than available threads. You can avoid it by setting the environment variable OMP_NUM_THREADS=2.\n",
      "  warnings.warn(\n"
     ]
    },
    {
     "name": "stdout",
     "output_type": "stream",
     "text": [
      "-33662.495583806594 -inf\n",
      "assigning best model\n"
     ]
    },
    {
     "name": "stderr",
     "output_type": "stream",
     "text": [
      "c:\\miniconda\\lib\\site-packages\\sklearn\\cluster\\_kmeans.py:1038: UserWarning: KMeans is known to have a memory leak on Windows with MKL, when there are less chunks than available threads. You can avoid it by setting the environment variable OMP_NUM_THREADS=4.\n",
      "  warnings.warn(\n",
      "c:\\miniconda\\lib\\site-packages\\sklearn\\cluster\\_kmeans.py:1038: UserWarning: KMeans is known to have a memory leak on Windows with MKL, when there are less chunks than available threads. You can avoid it by setting the environment variable OMP_NUM_THREADS=2.\n",
      "  warnings.warn(\n",
      "c:\\miniconda\\lib\\site-packages\\sklearn\\cluster\\_kmeans.py:1038: UserWarning: KMeans is known to have a memory leak on Windows with MKL, when there are less chunks than available threads. You can avoid it by setting the environment variable OMP_NUM_THREADS=2.\n",
      "  warnings.warn(\n",
      "c:\\miniconda\\lib\\site-packages\\sklearn\\cluster\\_kmeans.py:1038: UserWarning: KMeans is known to have a memory leak on Windows with MKL, when there are less chunks than available threads. You can avoid it by setting the environment variable OMP_NUM_THREADS=2.\n",
      "  warnings.warn(\n"
     ]
    },
    {
     "name": "stdout",
     "output_type": "stream",
     "text": [
      "-33755.80406241281 -33662.495583806594\n"
     ]
    },
    {
     "name": "stderr",
     "output_type": "stream",
     "text": [
      "c:\\miniconda\\lib\\site-packages\\sklearn\\cluster\\_kmeans.py:1038: UserWarning: KMeans is known to have a memory leak on Windows with MKL, when there are less chunks than available threads. You can avoid it by setting the environment variable OMP_NUM_THREADS=2.\n",
      "  warnings.warn(\n",
      "c:\\miniconda\\lib\\site-packages\\sklearn\\cluster\\_kmeans.py:1038: UserWarning: KMeans is known to have a memory leak on Windows with MKL, when there are less chunks than available threads. You can avoid it by setting the environment variable OMP_NUM_THREADS=2.\n",
      "  warnings.warn(\n",
      "c:\\miniconda\\lib\\site-packages\\sklearn\\cluster\\_kmeans.py:1038: UserWarning: KMeans is known to have a memory leak on Windows with MKL, when there are less chunks than available threads. You can avoid it by setting the environment variable OMP_NUM_THREADS=2.\n",
      "  warnings.warn(\n",
      "c:\\miniconda\\lib\\site-packages\\sklearn\\cluster\\_kmeans.py:1038: UserWarning: KMeans is known to have a memory leak on Windows with MKL, when there are less chunks than available threads. You can avoid it by setting the environment variable OMP_NUM_THREADS=4.\n",
      "  warnings.warn(\n"
     ]
    },
    {
     "name": "stdout",
     "output_type": "stream",
     "text": [
      "-33851.48098161779 -33662.495583806594\n"
     ]
    },
    {
     "name": "stderr",
     "output_type": "stream",
     "text": [
      "c:\\miniconda\\lib\\site-packages\\sklearn\\cluster\\_kmeans.py:1038: UserWarning: KMeans is known to have a memory leak on Windows with MKL, when there are less chunks than available threads. You can avoid it by setting the environment variable OMP_NUM_THREADS=4.\n",
      "  warnings.warn(\n",
      "c:\\miniconda\\lib\\site-packages\\sklearn\\cluster\\_kmeans.py:1038: UserWarning: KMeans is known to have a memory leak on Windows with MKL, when there are less chunks than available threads. You can avoid it by setting the environment variable OMP_NUM_THREADS=2.\n",
      "  warnings.warn(\n",
      "c:\\miniconda\\lib\\site-packages\\sklearn\\cluster\\_kmeans.py:1038: UserWarning: KMeans is known to have a memory leak on Windows with MKL, when there are less chunks than available threads. You can avoid it by setting the environment variable OMP_NUM_THREADS=2.\n",
      "  warnings.warn(\n",
      "c:\\miniconda\\lib\\site-packages\\sklearn\\cluster\\_kmeans.py:1038: UserWarning: KMeans is known to have a memory leak on Windows with MKL, when there are less chunks than available threads. You can avoid it by setting the environment variable OMP_NUM_THREADS=2.\n",
      "  warnings.warn(\n"
     ]
    },
    {
     "name": "stdout",
     "output_type": "stream",
     "text": [
      "-33850.60898432743 -33662.495583806594\n"
     ]
    },
    {
     "name": "stderr",
     "output_type": "stream",
     "text": [
      "c:\\miniconda\\lib\\site-packages\\sklearn\\cluster\\_kmeans.py:1038: UserWarning: KMeans is known to have a memory leak on Windows with MKL, when there are less chunks than available threads. You can avoid it by setting the environment variable OMP_NUM_THREADS=2.\n",
      "  warnings.warn(\n",
      "c:\\miniconda\\lib\\site-packages\\sklearn\\cluster\\_kmeans.py:1038: UserWarning: KMeans is known to have a memory leak on Windows with MKL, when there are less chunks than available threads. You can avoid it by setting the environment variable OMP_NUM_THREADS=2.\n",
      "  warnings.warn(\n",
      "c:\\miniconda\\lib\\site-packages\\sklearn\\cluster\\_kmeans.py:1038: UserWarning: KMeans is known to have a memory leak on Windows with MKL, when there are less chunks than available threads. You can avoid it by setting the environment variable OMP_NUM_THREADS=2.\n",
      "  warnings.warn(\n",
      "c:\\miniconda\\lib\\site-packages\\sklearn\\cluster\\_kmeans.py:1038: UserWarning: KMeans is known to have a memory leak on Windows with MKL, when there are less chunks than available threads. You can avoid it by setting the environment variable OMP_NUM_THREADS=4.\n",
      "  warnings.warn(\n"
     ]
    },
    {
     "name": "stdout",
     "output_type": "stream",
     "text": [
      "-33850.437086297934 -33662.495583806594\n"
     ]
    },
    {
     "name": "stderr",
     "output_type": "stream",
     "text": [
      "c:\\miniconda\\lib\\site-packages\\sklearn\\cluster\\_kmeans.py:1038: UserWarning: KMeans is known to have a memory leak on Windows with MKL, when there are less chunks than available threads. You can avoid it by setting the environment variable OMP_NUM_THREADS=2.\n",
      "  warnings.warn(\n",
      "c:\\miniconda\\lib\\site-packages\\sklearn\\cluster\\_kmeans.py:1038: UserWarning: KMeans is known to have a memory leak on Windows with MKL, when there are less chunks than available threads. You can avoid it by setting the environment variable OMP_NUM_THREADS=4.\n",
      "  warnings.warn(\n",
      "c:\\miniconda\\lib\\site-packages\\sklearn\\cluster\\_kmeans.py:1038: UserWarning: KMeans is known to have a memory leak on Windows with MKL, when there are less chunks than available threads. You can avoid it by setting the environment variable OMP_NUM_THREADS=2.\n",
      "  warnings.warn(\n",
      "c:\\miniconda\\lib\\site-packages\\sklearn\\cluster\\_kmeans.py:1038: UserWarning: KMeans is known to have a memory leak on Windows with MKL, when there are less chunks than available threads. You can avoid it by setting the environment variable OMP_NUM_THREADS=2.\n",
      "  warnings.warn(\n"
     ]
    },
    {
     "name": "stdout",
     "output_type": "stream",
     "text": [
      "-33842.709076084866 -33662.495583806594\n"
     ]
    },
    {
     "name": "stderr",
     "output_type": "stream",
     "text": [
      "c:\\miniconda\\lib\\site-packages\\sklearn\\cluster\\_kmeans.py:1038: UserWarning: KMeans is known to have a memory leak on Windows with MKL, when there are less chunks than available threads. You can avoid it by setting the environment variable OMP_NUM_THREADS=4.\n",
      "  warnings.warn(\n",
      "c:\\miniconda\\lib\\site-packages\\sklearn\\cluster\\_kmeans.py:1038: UserWarning: KMeans is known to have a memory leak on Windows with MKL, when there are less chunks than available threads. You can avoid it by setting the environment variable OMP_NUM_THREADS=2.\n",
      "  warnings.warn(\n",
      "c:\\miniconda\\lib\\site-packages\\sklearn\\cluster\\_kmeans.py:1038: UserWarning: KMeans is known to have a memory leak on Windows with MKL, when there are less chunks than available threads. You can avoid it by setting the environment variable OMP_NUM_THREADS=2.\n",
      "  warnings.warn(\n",
      "c:\\miniconda\\lib\\site-packages\\sklearn\\cluster\\_kmeans.py:1038: UserWarning: KMeans is known to have a memory leak on Windows with MKL, when there are less chunks than available threads. You can avoid it by setting the environment variable OMP_NUM_THREADS=2.\n",
      "  warnings.warn(\n"
     ]
    },
    {
     "name": "stdout",
     "output_type": "stream",
     "text": [
      "-33856.251090080514 -33662.495583806594\n"
     ]
    },
    {
     "name": "stderr",
     "output_type": "stream",
     "text": [
      "c:\\miniconda\\lib\\site-packages\\sklearn\\cluster\\_kmeans.py:1038: UserWarning: KMeans is known to have a memory leak on Windows with MKL, when there are less chunks than available threads. You can avoid it by setting the environment variable OMP_NUM_THREADS=2.\n",
      "  warnings.warn(\n",
      "c:\\miniconda\\lib\\site-packages\\sklearn\\cluster\\_kmeans.py:1038: UserWarning: KMeans is known to have a memory leak on Windows with MKL, when there are less chunks than available threads. You can avoid it by setting the environment variable OMP_NUM_THREADS=2.\n",
      "  warnings.warn(\n",
      "c:\\miniconda\\lib\\site-packages\\sklearn\\cluster\\_kmeans.py:1038: UserWarning: KMeans is known to have a memory leak on Windows with MKL, when there are less chunks than available threads. You can avoid it by setting the environment variable OMP_NUM_THREADS=4.\n",
      "  warnings.warn(\n",
      "c:\\miniconda\\lib\\site-packages\\sklearn\\cluster\\_kmeans.py:1038: UserWarning: KMeans is known to have a memory leak on Windows with MKL, when there are less chunks than available threads. You can avoid it by setting the environment variable OMP_NUM_THREADS=2.\n",
      "  warnings.warn(\n"
     ]
    },
    {
     "name": "stdout",
     "output_type": "stream",
     "text": [
      "-33845.73066569492 -33662.495583806594\n"
     ]
    },
    {
     "name": "stderr",
     "output_type": "stream",
     "text": [
      "c:\\miniconda\\lib\\site-packages\\sklearn\\cluster\\_kmeans.py:1038: UserWarning: KMeans is known to have a memory leak on Windows with MKL, when there are less chunks than available threads. You can avoid it by setting the environment variable OMP_NUM_THREADS=2.\n",
      "  warnings.warn(\n",
      "c:\\miniconda\\lib\\site-packages\\sklearn\\cluster\\_kmeans.py:1038: UserWarning: KMeans is known to have a memory leak on Windows with MKL, when there are less chunks than available threads. You can avoid it by setting the environment variable OMP_NUM_THREADS=2.\n",
      "  warnings.warn(\n",
      "c:\\miniconda\\lib\\site-packages\\sklearn\\cluster\\_kmeans.py:1038: UserWarning: KMeans is known to have a memory leak on Windows with MKL, when there are less chunks than available threads. You can avoid it by setting the environment variable OMP_NUM_THREADS=4.\n",
      "  warnings.warn(\n",
      "c:\\miniconda\\lib\\site-packages\\sklearn\\cluster\\_kmeans.py:1038: UserWarning: KMeans is known to have a memory leak on Windows with MKL, when there are less chunks than available threads. You can avoid it by setting the environment variable OMP_NUM_THREADS=2.\n",
      "  warnings.warn(\n"
     ]
    },
    {
     "name": "stdout",
     "output_type": "stream",
     "text": [
      "-33850.09546666759 -33662.495583806594\n"
     ]
    },
    {
     "name": "stderr",
     "output_type": "stream",
     "text": [
      "c:\\miniconda\\lib\\site-packages\\sklearn\\cluster\\_kmeans.py:1038: UserWarning: KMeans is known to have a memory leak on Windows with MKL, when there are less chunks than available threads. You can avoid it by setting the environment variable OMP_NUM_THREADS=2.\n",
      "  warnings.warn(\n",
      "c:\\miniconda\\lib\\site-packages\\sklearn\\cluster\\_kmeans.py:1038: UserWarning: KMeans is known to have a memory leak on Windows with MKL, when there are less chunks than available threads. You can avoid it by setting the environment variable OMP_NUM_THREADS=4.\n",
      "  warnings.warn(\n",
      "c:\\miniconda\\lib\\site-packages\\sklearn\\cluster\\_kmeans.py:1038: UserWarning: KMeans is known to have a memory leak on Windows with MKL, when there are less chunks than available threads. You can avoid it by setting the environment variable OMP_NUM_THREADS=2.\n",
      "  warnings.warn(\n",
      "c:\\miniconda\\lib\\site-packages\\sklearn\\cluster\\_kmeans.py:1038: UserWarning: KMeans is known to have a memory leak on Windows with MKL, when there are less chunks than available threads. You can avoid it by setting the environment variable OMP_NUM_THREADS=2.\n",
      "  warnings.warn(\n"
     ]
    },
    {
     "name": "stdout",
     "output_type": "stream",
     "text": [
      "-33842.90524244978 -33662.495583806594\n"
     ]
    },
    {
     "name": "stderr",
     "output_type": "stream",
     "text": [
      "c:\\miniconda\\lib\\site-packages\\sklearn\\cluster\\_kmeans.py:1038: UserWarning: KMeans is known to have a memory leak on Windows with MKL, when there are less chunks than available threads. You can avoid it by setting the environment variable OMP_NUM_THREADS=3.\n",
      "  warnings.warn(\n",
      "c:\\miniconda\\lib\\site-packages\\sklearn\\cluster\\_kmeans.py:1038: UserWarning: KMeans is known to have a memory leak on Windows with MKL, when there are less chunks than available threads. You can avoid it by setting the environment variable OMP_NUM_THREADS=3.\n",
      "  warnings.warn(\n",
      "c:\\miniconda\\lib\\site-packages\\sklearn\\cluster\\_kmeans.py:1038: UserWarning: KMeans is known to have a memory leak on Windows with MKL, when there are less chunks than available threads. You can avoid it by setting the environment variable OMP_NUM_THREADS=4.\n",
      "  warnings.warn(\n",
      "c:\\miniconda\\lib\\site-packages\\sklearn\\cluster\\_kmeans.py:1038: UserWarning: KMeans is known to have a memory leak on Windows with MKL, when there are less chunks than available threads. You can avoid it by setting the environment variable OMP_NUM_THREADS=3.\n",
      "  warnings.warn(\n",
      "c:\\miniconda\\lib\\site-packages\\sklearn\\cluster\\_kmeans.py:1038: UserWarning: KMeans is known to have a memory leak on Windows with MKL, when there are less chunks than available threads. You can avoid it by setting the environment variable OMP_NUM_THREADS=6.\n",
      "  warnings.warn(\n"
     ]
    },
    {
     "name": "stdout",
     "output_type": "stream",
     "text": [
      "-32068.918061116576 -inf\n",
      "assigning best model\n"
     ]
    },
    {
     "name": "stderr",
     "output_type": "stream",
     "text": [
      "c:\\miniconda\\lib\\site-packages\\sklearn\\cluster\\_kmeans.py:1038: UserWarning: KMeans is known to have a memory leak on Windows with MKL, when there are less chunks than available threads. You can avoid it by setting the environment variable OMP_NUM_THREADS=3.\n",
      "  warnings.warn(\n",
      "c:\\miniconda\\lib\\site-packages\\sklearn\\cluster\\_kmeans.py:1038: UserWarning: KMeans is known to have a memory leak on Windows with MKL, when there are less chunks than available threads. You can avoid it by setting the environment variable OMP_NUM_THREADS=3.\n",
      "  warnings.warn(\n",
      "c:\\miniconda\\lib\\site-packages\\sklearn\\cluster\\_kmeans.py:1038: UserWarning: KMeans is known to have a memory leak on Windows with MKL, when there are less chunks than available threads. You can avoid it by setting the environment variable OMP_NUM_THREADS=3.\n",
      "  warnings.warn(\n",
      "c:\\miniconda\\lib\\site-packages\\sklearn\\cluster\\_kmeans.py:1038: UserWarning: KMeans is known to have a memory leak on Windows with MKL, when there are less chunks than available threads. You can avoid it by setting the environment variable OMP_NUM_THREADS=1.\n",
      "  warnings.warn(\n"
     ]
    },
    {
     "name": "stdout",
     "output_type": "stream",
     "text": [
      "-32013.106227295553 -32068.918061116576\n",
      "assigning best model\n"
     ]
    },
    {
     "name": "stderr",
     "output_type": "stream",
     "text": [
      "c:\\miniconda\\lib\\site-packages\\sklearn\\cluster\\_kmeans.py:1038: UserWarning: KMeans is known to have a memory leak on Windows with MKL, when there are less chunks than available threads. You can avoid it by setting the environment variable OMP_NUM_THREADS=6.\n",
      "  warnings.warn(\n",
      "c:\\miniconda\\lib\\site-packages\\sklearn\\cluster\\_kmeans.py:1038: UserWarning: KMeans is known to have a memory leak on Windows with MKL, when there are less chunks than available threads. You can avoid it by setting the environment variable OMP_NUM_THREADS=3.\n",
      "  warnings.warn(\n",
      "c:\\miniconda\\lib\\site-packages\\sklearn\\cluster\\_kmeans.py:1038: UserWarning: KMeans is known to have a memory leak on Windows with MKL, when there are less chunks than available threads. You can avoid it by setting the environment variable OMP_NUM_THREADS=3.\n",
      "  warnings.warn(\n",
      "c:\\miniconda\\lib\\site-packages\\sklearn\\cluster\\_kmeans.py:1038: UserWarning: KMeans is known to have a memory leak on Windows with MKL, when there are less chunks than available threads. You can avoid it by setting the environment variable OMP_NUM_THREADS=3.\n",
      "  warnings.warn(\n",
      "c:\\miniconda\\lib\\site-packages\\sklearn\\cluster\\_kmeans.py:1038: UserWarning: KMeans is known to have a memory leak on Windows with MKL, when there are less chunks than available threads. You can avoid it by setting the environment variable OMP_NUM_THREADS=4.\n",
      "  warnings.warn(\n"
     ]
    },
    {
     "name": "stdout",
     "output_type": "stream",
     "text": [
      "-32058.171219659234 -32013.106227295553\n"
     ]
    },
    {
     "name": "stderr",
     "output_type": "stream",
     "text": [
      "c:\\miniconda\\lib\\site-packages\\sklearn\\cluster\\_kmeans.py:1038: UserWarning: KMeans is known to have a memory leak on Windows with MKL, when there are less chunks than available threads. You can avoid it by setting the environment variable OMP_NUM_THREADS=3.\n",
      "  warnings.warn(\n",
      "c:\\miniconda\\lib\\site-packages\\sklearn\\cluster\\_kmeans.py:1038: UserWarning: KMeans is known to have a memory leak on Windows with MKL, when there are less chunks than available threads. You can avoid it by setting the environment variable OMP_NUM_THREADS=3.\n",
      "  warnings.warn(\n",
      "c:\\miniconda\\lib\\site-packages\\sklearn\\cluster\\_kmeans.py:1038: UserWarning: KMeans is known to have a memory leak on Windows with MKL, when there are less chunks than available threads. You can avoid it by setting the environment variable OMP_NUM_THREADS=3.\n",
      "  warnings.warn(\n",
      "c:\\miniconda\\lib\\site-packages\\sklearn\\cluster\\_kmeans.py:1038: UserWarning: KMeans is known to have a memory leak on Windows with MKL, when there are less chunks than available threads. You can avoid it by setting the environment variable OMP_NUM_THREADS=1.\n",
      "  warnings.warn(\n"
     ]
    },
    {
     "name": "stdout",
     "output_type": "stream",
     "text": [
      "-32013.62246520785 -32013.106227295553\n"
     ]
    },
    {
     "name": "stderr",
     "output_type": "stream",
     "text": [
      "c:\\miniconda\\lib\\site-packages\\sklearn\\cluster\\_kmeans.py:1038: UserWarning: KMeans is known to have a memory leak on Windows with MKL, when there are less chunks than available threads. You can avoid it by setting the environment variable OMP_NUM_THREADS=4.\n",
      "  warnings.warn(\n",
      "c:\\miniconda\\lib\\site-packages\\sklearn\\cluster\\_kmeans.py:1038: UserWarning: KMeans is known to have a memory leak on Windows with MKL, when there are less chunks than available threads. You can avoid it by setting the environment variable OMP_NUM_THREADS=6.\n",
      "  warnings.warn(\n",
      "c:\\miniconda\\lib\\site-packages\\sklearn\\cluster\\_kmeans.py:1038: UserWarning: KMeans is known to have a memory leak on Windows with MKL, when there are less chunks than available threads. You can avoid it by setting the environment variable OMP_NUM_THREADS=3.\n",
      "  warnings.warn(\n",
      "c:\\miniconda\\lib\\site-packages\\sklearn\\cluster\\_kmeans.py:1038: UserWarning: KMeans is known to have a memory leak on Windows with MKL, when there are less chunks than available threads. You can avoid it by setting the environment variable OMP_NUM_THREADS=3.\n",
      "  warnings.warn(\n",
      "c:\\miniconda\\lib\\site-packages\\sklearn\\cluster\\_kmeans.py:1038: UserWarning: KMeans is known to have a memory leak on Windows with MKL, when there are less chunks than available threads. You can avoid it by setting the environment variable OMP_NUM_THREADS=3.\n",
      "  warnings.warn(\n"
     ]
    },
    {
     "name": "stdout",
     "output_type": "stream",
     "text": [
      "-32084.851058103875 -32013.106227295553\n"
     ]
    },
    {
     "name": "stderr",
     "output_type": "stream",
     "text": [
      "c:\\miniconda\\lib\\site-packages\\sklearn\\cluster\\_kmeans.py:1038: UserWarning: KMeans is known to have a memory leak on Windows with MKL, when there are less chunks than available threads. You can avoid it by setting the environment variable OMP_NUM_THREADS=1.\n",
      "  warnings.warn(\n",
      "c:\\miniconda\\lib\\site-packages\\sklearn\\cluster\\_kmeans.py:1038: UserWarning: KMeans is known to have a memory leak on Windows with MKL, when there are less chunks than available threads. You can avoid it by setting the environment variable OMP_NUM_THREADS=3.\n",
      "  warnings.warn(\n",
      "c:\\miniconda\\lib\\site-packages\\sklearn\\cluster\\_kmeans.py:1038: UserWarning: KMeans is known to have a memory leak on Windows with MKL, when there are less chunks than available threads. You can avoid it by setting the environment variable OMP_NUM_THREADS=3.\n",
      "  warnings.warn(\n",
      "c:\\miniconda\\lib\\site-packages\\sklearn\\cluster\\_kmeans.py:1038: UserWarning: KMeans is known to have a memory leak on Windows with MKL, when there are less chunks than available threads. You can avoid it by setting the environment variable OMP_NUM_THREADS=3.\n",
      "  warnings.warn(\n"
     ]
    },
    {
     "name": "stdout",
     "output_type": "stream",
     "text": [
      "-32018.88813072447 -32013.106227295553\n"
     ]
    },
    {
     "name": "stderr",
     "output_type": "stream",
     "text": [
      "c:\\miniconda\\lib\\site-packages\\sklearn\\cluster\\_kmeans.py:1038: UserWarning: KMeans is known to have a memory leak on Windows with MKL, when there are less chunks than available threads. You can avoid it by setting the environment variable OMP_NUM_THREADS=3.\n",
      "  warnings.warn(\n",
      "c:\\miniconda\\lib\\site-packages\\sklearn\\cluster\\_kmeans.py:1038: UserWarning: KMeans is known to have a memory leak on Windows with MKL, when there are less chunks than available threads. You can avoid it by setting the environment variable OMP_NUM_THREADS=3.\n",
      "  warnings.warn(\n",
      "c:\\miniconda\\lib\\site-packages\\sklearn\\cluster\\_kmeans.py:1038: UserWarning: KMeans is known to have a memory leak on Windows with MKL, when there are less chunks than available threads. You can avoid it by setting the environment variable OMP_NUM_THREADS=3.\n",
      "  warnings.warn(\n",
      "c:\\miniconda\\lib\\site-packages\\sklearn\\cluster\\_kmeans.py:1038: UserWarning: KMeans is known to have a memory leak on Windows with MKL, when there are less chunks than available threads. You can avoid it by setting the environment variable OMP_NUM_THREADS=1.\n",
      "  warnings.warn(\n"
     ]
    },
    {
     "name": "stdout",
     "output_type": "stream",
     "text": [
      "-32020.57263996141 -32013.106227295553\n"
     ]
    },
    {
     "name": "stderr",
     "output_type": "stream",
     "text": [
      "c:\\miniconda\\lib\\site-packages\\sklearn\\cluster\\_kmeans.py:1038: UserWarning: KMeans is known to have a memory leak on Windows with MKL, when there are less chunks than available threads. You can avoid it by setting the environment variable OMP_NUM_THREADS=1.\n",
      "  warnings.warn(\n",
      "c:\\miniconda\\lib\\site-packages\\sklearn\\cluster\\_kmeans.py:1038: UserWarning: KMeans is known to have a memory leak on Windows with MKL, when there are less chunks than available threads. You can avoid it by setting the environment variable OMP_NUM_THREADS=3.\n",
      "  warnings.warn(\n",
      "c:\\miniconda\\lib\\site-packages\\sklearn\\cluster\\_kmeans.py:1038: UserWarning: KMeans is known to have a memory leak on Windows with MKL, when there are less chunks than available threads. You can avoid it by setting the environment variable OMP_NUM_THREADS=3.\n",
      "  warnings.warn(\n",
      "c:\\miniconda\\lib\\site-packages\\sklearn\\cluster\\_kmeans.py:1038: UserWarning: KMeans is known to have a memory leak on Windows with MKL, when there are less chunks than available threads. You can avoid it by setting the environment variable OMP_NUM_THREADS=3.\n",
      "  warnings.warn(\n"
     ]
    },
    {
     "name": "stdout",
     "output_type": "stream",
     "text": [
      "-32018.95110223817 -32013.106227295553\n"
     ]
    },
    {
     "name": "stderr",
     "output_type": "stream",
     "text": [
      "c:\\miniconda\\lib\\site-packages\\sklearn\\cluster\\_kmeans.py:1038: UserWarning: KMeans is known to have a memory leak on Windows with MKL, when there are less chunks than available threads. You can avoid it by setting the environment variable OMP_NUM_THREADS=3.\n",
      "  warnings.warn(\n",
      "c:\\miniconda\\lib\\site-packages\\sklearn\\cluster\\_kmeans.py:1038: UserWarning: KMeans is known to have a memory leak on Windows with MKL, when there are less chunks than available threads. You can avoid it by setting the environment variable OMP_NUM_THREADS=3.\n",
      "  warnings.warn(\n",
      "c:\\miniconda\\lib\\site-packages\\sklearn\\cluster\\_kmeans.py:1038: UserWarning: KMeans is known to have a memory leak on Windows with MKL, when there are less chunks than available threads. You can avoid it by setting the environment variable OMP_NUM_THREADS=3.\n",
      "  warnings.warn(\n",
      "c:\\miniconda\\lib\\site-packages\\sklearn\\cluster\\_kmeans.py:1038: UserWarning: KMeans is known to have a memory leak on Windows with MKL, when there are less chunks than available threads. You can avoid it by setting the environment variable OMP_NUM_THREADS=6.\n",
      "  warnings.warn(\n",
      "c:\\miniconda\\lib\\site-packages\\sklearn\\cluster\\_kmeans.py:1038: UserWarning: KMeans is known to have a memory leak on Windows with MKL, when there are less chunks than available threads. You can avoid it by setting the environment variable OMP_NUM_THREADS=4.\n",
      "  warnings.warn(\n"
     ]
    },
    {
     "name": "stdout",
     "output_type": "stream",
     "text": [
      "-32070.829256567944 -32013.106227295553\n"
     ]
    },
    {
     "name": "stderr",
     "output_type": "stream",
     "text": [
      "c:\\miniconda\\lib\\site-packages\\sklearn\\cluster\\_kmeans.py:1038: UserWarning: KMeans is known to have a memory leak on Windows with MKL, when there are less chunks than available threads. You can avoid it by setting the environment variable OMP_NUM_THREADS=6.\n",
      "  warnings.warn(\n",
      "c:\\miniconda\\lib\\site-packages\\sklearn\\cluster\\_kmeans.py:1038: UserWarning: KMeans is known to have a memory leak on Windows with MKL, when there are less chunks than available threads. You can avoid it by setting the environment variable OMP_NUM_THREADS=3.\n",
      "  warnings.warn(\n",
      "c:\\miniconda\\lib\\site-packages\\sklearn\\cluster\\_kmeans.py:1038: UserWarning: KMeans is known to have a memory leak on Windows with MKL, when there are less chunks than available threads. You can avoid it by setting the environment variable OMP_NUM_THREADS=3.\n",
      "  warnings.warn(\n",
      "c:\\miniconda\\lib\\site-packages\\sklearn\\cluster\\_kmeans.py:1038: UserWarning: KMeans is known to have a memory leak on Windows with MKL, when there are less chunks than available threads. You can avoid it by setting the environment variable OMP_NUM_THREADS=3.\n",
      "  warnings.warn(\n",
      "c:\\miniconda\\lib\\site-packages\\sklearn\\cluster\\_kmeans.py:1038: UserWarning: KMeans is known to have a memory leak on Windows with MKL, when there are less chunks than available threads. You can avoid it by setting the environment variable OMP_NUM_THREADS=4.\n",
      "  warnings.warn(\n"
     ]
    },
    {
     "name": "stdout",
     "output_type": "stream",
     "text": [
      "-32071.087568871844 -32013.106227295553\n"
     ]
    }
   ],
   "source": [
    "for i,key in enumerate(subjects.keys()):\n",
    "    best_llkhd = -np.inf\n",
    "    key = list(subjects.keys())[i]\n",
    "    \n",
    "    data = subjects[key][0]\n",
    "    lengths = [data[0].shape[0]] * len(data)\n",
    "    data_collected = np.vstack(data)\n",
    "    \n",
    "    for i in range(10): #ten iteration training loop\n",
    "        startprob, transmat = initialize(5)\n",
    "        model = hmm.GMMHMM(n_components=5,covariance_type=\"diag\",init_params=\"mc\")\n",
    "\n",
    "        model.startprob_ = startprob\n",
    "        model.transmat_ = transmat\n",
    "\n",
    "        model.fit(data_collected)\n",
    "        llkhd = model.monitor_.history[-1] #log llkhd\n",
    "        print(llkhd,best_llkhd)\n",
    "        if llkhd > best_llkhd:\n",
    "            print(\"assigning best model\")\n",
    "            best_llkhd = llkhd\n",
    "            best_models[key] = model"
   ]
  },
  {
   "cell_type": "markdown",
   "metadata": {},
   "source": [
    "## Problem 4\n",
    "\n",
    "Find the classification accuracies of the five GMMHMMs, and return a dictionary\n",
    "where the words/phrases are the keys, and the values are the percent accuracies."
   ]
  },
  {
   "cell_type": "code",
   "execution_count": 13,
   "metadata": {},
   "outputs": [
    {
     "name": "stdout",
     "output_type": "stream",
     "text": [
      "assigning a model\n",
      "assigning a model\n",
      "assigning a model\n",
      "assigning a model\n",
      "assigning a model\n",
      "assigning a model\n",
      "assigning a model\n",
      "assigning a model\n",
      "assigning a model\n",
      "assigning a model\n",
      "assigning a model\n",
      "assigning a model\n",
      "assigning a model\n",
      "assigning a model\n",
      "assigning a model\n",
      "assigning a model\n",
      "assigning a model\n",
      "assigning a model\n",
      "assigning a model\n",
      "assigning a model\n",
      "assigning a model\n",
      "assigning a model\n",
      "assigning a model\n",
      "assigning a model\n",
      "assigning a model\n",
      "assigning a model\n",
      "assigning a model\n",
      "assigning a model\n",
      "assigning a model\n",
      "assigning a model\n",
      "assigning a model\n",
      "assigning a model\n",
      "assigning a model\n",
      "assigning a model\n",
      "assigning a model\n",
      "assigning a model\n",
      "assigning a model\n",
      "assigning a model\n",
      "assigning a model\n",
      "assigning a model\n",
      "assigning a model\n",
      "assigning a model\n",
      "assigning a model\n",
      "assigning a model\n",
      "assigning a model\n",
      "assigning a model\n",
      "assigning a model\n",
      "assigning a model\n",
      "assigning a model\n",
      "assigning a model\n",
      "assigning a model\n",
      "assigning a model\n",
      "assigning a model\n",
      "assigning a model\n",
      "assigning a model\n",
      "assigning a model\n",
      "assigning a model\n",
      "assigning a model\n",
      "assigning a model\n",
      "assigning a model\n",
      "assigning a model\n",
      "assigning a model\n",
      "assigning a model\n",
      "assigning a model\n",
      "assigning a model\n",
      "assigning a model\n",
      "assigning a model\n",
      "assigning a model\n",
      "assigning a model\n",
      "assigning a model\n",
      "assigning a model\n",
      "assigning a model\n",
      "assigning a model\n",
      "assigning a model\n",
      "assigning a model\n",
      "assigning a model\n",
      "assigning a model\n",
      "assigning a model\n",
      "assigning a model\n",
      "assigning a model\n",
      "assigning a model\n",
      "assigning a model\n",
      "assigning a model\n",
      "assigning a model\n",
      "assigning a model\n",
      "assigning a model\n",
      "assigning a model\n",
      "assigning a model\n",
      "assigning a model\n",
      "assigning a model\n",
      "assigning a model\n",
      "assigning a model\n",
      "assigning a model\n",
      "assigning a model\n",
      "assigning a model\n",
      "assigning a model\n",
      "assigning a model\n",
      "assigning a model\n",
      "assigning a model\n",
      "assigning a model\n",
      "assigning a model\n",
      "assigning a model\n",
      "assigning a model\n",
      "assigning a model\n",
      "assigning a model\n",
      "assigning a model\n",
      "assigning a model\n",
      "assigning a model\n",
      "assigning a model\n"
     ]
    }
   ],
   "source": [
    "#get accuracies\n",
    "test_words = {}\n",
    "word_mappings = {}\n",
    "for i,key in enumerate(best_models.keys()): #iterate over words\n",
    "    word_mappings[key] = []\n",
    "    data = subjects[key][1]\n",
    "    #iterate over best models 10 times\n",
    "    for data_collected in data:\n",
    "        best_score = -np.inf\n",
    "        for word,model in zip(best_models.keys(),best_models.values()):\n",
    "            score = model.score(data_collected)\n",
    "            if score > best_score: #model selection\n",
    "                print(\"assigning a model\")\n",
    "                best_score = score\n",
    "                best_word = word\n",
    "        word_mappings[key].append(best_word)\n",
    "            "
   ]
  },
  {
   "cell_type": "code",
   "execution_count": 14,
   "metadata": {},
   "outputs": [
    {
     "data": {
      "text/plain": [
       "{'Mathematics': ['Mathematics',\n",
       "  'Mathematics',\n",
       "  'Mathematics',\n",
       "  'Mathematics',\n",
       "  'Mathematics',\n",
       "  'Mathematics',\n",
       "  'Mathematics',\n",
       "  'Mathematics',\n",
       "  'Mathematics',\n",
       "  'Mathematics'],\n",
       " 'Biology': ['Biology',\n",
       "  'Biology',\n",
       "  'Biology',\n",
       "  'Biology',\n",
       "  'Biology',\n",
       "  'Biology',\n",
       "  'Biology',\n",
       "  'Biology',\n",
       "  'Biology',\n",
       "  'Biology'],\n",
       " 'PoliticalScience': ['PoliticalScience',\n",
       "  'PoliticalScience',\n",
       "  'PoliticalScience',\n",
       "  'PoliticalScience',\n",
       "  'PoliticalScience',\n",
       "  'PoliticalScience',\n",
       "  'PoliticalScience',\n",
       "  'PoliticalScience',\n",
       "  'PoliticalScience',\n",
       "  'PoliticalScience',\n",
       "  'PoliticalScience'],\n",
       " 'Psychology': ['Psychology',\n",
       "  'Psychology',\n",
       "  'Psychology',\n",
       "  'Psychology',\n",
       "  'Psychology',\n",
       "  'Psychology',\n",
       "  'Biology',\n",
       "  'Psychology',\n",
       "  'Psychology',\n",
       "  'Psychology'],\n",
       " 'Statistics': ['Statistics',\n",
       "  'Statistics',\n",
       "  'Statistics',\n",
       "  'Statistics',\n",
       "  'Statistics',\n",
       "  'Statistics',\n",
       "  'Statistics',\n",
       "  'Statistics',\n",
       "  'Statistics',\n",
       "  'Statistics']}"
      ]
     },
     "execution_count": 14,
     "metadata": {},
     "output_type": "execute_result"
    }
   ],
   "source": [
    "word_mappings #visualize results"
   ]
  },
  {
   "cell_type": "code",
   "execution_count": 15,
   "metadata": {},
   "outputs": [],
   "source": [
    "model_accs = {'Mathematics':None,'Biology':None,'PoliticalScience':None,'Psychology':None,'Statistics':None}\n",
    "for word in model_accs.keys():\n",
    "    preds = np.array(word_mappings[word])\n",
    "    score = len(preds[preds==word]) / len(preds) #calculate accuracy\n",
    "    model_accs[word] = score"
   ]
  },
  {
   "cell_type": "code",
   "execution_count": 16,
   "metadata": {},
   "outputs": [
    {
     "data": {
      "text/plain": [
       "{'Mathematics': 1.0,\n",
       " 'Biology': 1.0,\n",
       " 'PoliticalScience': 1.0,\n",
       " 'Psychology': 0.9,\n",
       " 'Statistics': 1.0}"
      ]
     },
     "execution_count": 16,
     "metadata": {},
     "output_type": "execute_result"
    }
   ],
   "source": [
    "model_accs"
   ]
  },
  {
   "cell_type": "code",
   "execution_count": null,
   "metadata": {},
   "outputs": [],
   "source": []
  }
 ],
 "metadata": {
  "kernelspec": {
   "display_name": "Python 3 (ipykernel)",
   "language": "python",
   "name": "python3"
  },
  "language_info": {
   "codemirror_mode": {
    "name": "ipython",
    "version": 3
   },
   "file_extension": ".py",
   "mimetype": "text/x-python",
   "name": "python",
   "nbconvert_exporter": "python",
   "pygments_lexer": "ipython3",
   "version": "3.8.5"
  }
 },
 "nbformat": 4,
 "nbformat_minor": 4
}
